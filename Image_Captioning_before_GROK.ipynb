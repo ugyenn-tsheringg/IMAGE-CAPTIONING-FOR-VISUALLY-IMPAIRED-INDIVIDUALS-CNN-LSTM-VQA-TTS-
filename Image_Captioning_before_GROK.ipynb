{
  "cells": [
    {
      "cell_type": "markdown",
      "metadata": {
        "id": "view-in-github",
        "colab_type": "text"
      },
      "source": [
        "<a href=\"https://colab.research.google.com/github/ugyenn-tsheringg/Image-Captioning-System-for-Visually-Impaired-Individals-using-CNN-LSTM-VQA-TTS/blob/main/Image_Captioning_before_GROK.ipynb\" target=\"_parent\"><img src=\"https://colab.research.google.com/assets/colab-badge.svg\" alt=\"Open In Colab\"/></a>"
      ]
    },
    {
      "cell_type": "code",
      "execution_count": 1,
      "metadata": {
        "colab": {
          "base_uri": "https://localhost:8080/"
        },
        "id": "Ln3VjIZdEgCX",
        "outputId": "6a876140-be35-47dc-935d-67855fba3d25"
      },
      "outputs": [
        {
          "output_type": "stream",
          "name": "stdout",
          "text": [
            "Mounted at /content/drive\n"
          ]
        }
      ],
      "source": [
        "import os\n",
        "from google.colab import drive\n",
        "\n",
        "# Mount Google Drive\n",
        "drive.mount('/content/drive')"
      ]
    },
    {
      "cell_type": "code",
      "execution_count": 2,
      "metadata": {
        "colab": {
          "base_uri": "https://localhost:8080/",
          "height": 84,
          "referenced_widgets": [
            "104efb8a9055441a835562d782892550",
            "e4a5ed3a916e472e84a76f1056debb90",
            "54a00bb8c11b4e668d77175d7ab5a816",
            "34370d3daf084104a1ceecf1fd299f63",
            "ee01310d29784f5991a28e836b676b8d",
            "e4fa39d8e3de44f798eba34b83991d9c",
            "fa493a5544e74aa4a4d75c81f3253d6c",
            "a353b4f5b26c445f85c34e799c6038e5",
            "757f6caa77f3428fbd9eb849127c5b49",
            "07f81240c7c741fab2befbba5b51b6c2",
            "7a409ef7242d4cd18f4769e311ae2c69",
            "4be5b8198b3346ee8df752adec2214c8",
            "0f7518de96cf4575bc373f790a90a772",
            "a1f9bc9a2c8746daa4fda78690e9ec7c",
            "bc657c1707ce4078a3bb5345bc7496e5",
            "72c110ef636343518c6077a60bd7e64f",
            "c33ed8d7811045eeb749d9dbb73f3377",
            "0309aed720ad48bc99e8a46a74096e9e",
            "b9bd206d73c049739ce41f70f277ff9e",
            "930f4092347f4f479288b60166c0c3d8",
            "4e00e92dc8ac430e93e69502bb205256",
            "7bd968d6c00b4332bcda47e522ee4a4f",
            "8df24343a0644d3f91fb86e8c46bfe3e"
          ]
        },
        "id": "FyEaVCRzEgCP",
        "outputId": "71a0992a-f967-4505-dd13-264757b2b328"
      },
      "outputs": [
        {
          "output_type": "display_data",
          "data": {
            "text/plain": [
              "VBox(children=(HTML(value='<center> <img\\nsrc=https://www.kaggle.com/static/images/site-logo.png\\nalt=\\'Kaggle…"
            ],
            "application/vnd.jupyter.widget-view+json": {
              "version_major": 2,
              "version_minor": 0,
              "model_id": "104efb8a9055441a835562d782892550"
            }
          },
          "metadata": {}
        },
        {
          "output_type": "stream",
          "name": "stdout",
          "text": [
            "Kaggle credentials set.\n",
            "Kaggle credentials successfully validated.\n"
          ]
        }
      ],
      "source": [
        "# IMPORTANT: SOME KAGGLE DATA SOURCES ARE PRIVATE\n",
        "# RUN THIS CELL IN ORDER TO IMPORT YOUR KAGGLE DATA SOURCES.\n",
        "import kagglehub\n",
        "kagglehub.login()"
      ]
    },
    {
      "cell_type": "code",
      "execution_count": 3,
      "metadata": {
        "colab": {
          "base_uri": "https://localhost:8080/"
        },
        "id": "k3aj0CEbEgCT",
        "outputId": "490c9890-a27e-4321-b0b6-028fbb079489"
      },
      "outputs": [
        {
          "output_type": "stream",
          "name": "stdout",
          "text": [
            "Downloading from https://www.kaggle.com/api/v1/datasets/download/ugyenntsheringg/requirement?dataset_version_number=1...\n"
          ]
        },
        {
          "output_type": "stream",
          "name": "stderr",
          "text": [
            "100%|██████████| 281/281 [00:00<00:00, 542kB/s]"
          ]
        },
        {
          "output_type": "stream",
          "name": "stdout",
          "text": [
            "Extracting files...\n",
            "Data source import complete.\n"
          ]
        },
        {
          "output_type": "stream",
          "name": "stderr",
          "text": [
            "\n"
          ]
        }
      ],
      "source": [
        "# IMPORTANT: RUN THIS CELL IN ORDER TO IMPORT YOUR KAGGLE DATA SOURCES,\n",
        "# THEN FEEL FREE TO DELETE THIS CELL.\n",
        "# NOTE: THIS NOTEBOOK ENVIRONMENT DIFFERS FROM KAGGLE'S PYTHON\n",
        "# ENVIRONMENT SO THERE MAY BE MISSING LIBRARIES USED BY YOUR\n",
        "# NOTEBOOK.\n",
        "\n",
        "awsaf49_coco_2017_dataset_path = kagglehub.dataset_download('awsaf49/coco-2017-dataset')\n",
        "ugyenntsheringg_requirement_path = kagglehub.dataset_download('ugyenntsheringg/requirement')\n",
        "\n",
        "print('Data source import complete.')"
      ]
    },
    {
      "cell_type": "code",
      "execution_count": 4,
      "metadata": {
        "colab": {
          "base_uri": "https://localhost:8080/"
        },
        "id": "E16386VzEgCU",
        "outputId": "3386feef-f90f-457a-9782-a3d492ebbcc7"
      },
      "outputs": [
        {
          "output_type": "stream",
          "name": "stdout",
          "text": [
            "Image ID: 363848\n",
            "Captions:\n",
            "- A woman in a dress holding a baseball bat.\n",
            "- Older black and white photo of a woman playing baseball and swinging a bat.\n",
            "- A young woman is playing softball in a dress.\n",
            "- a lady that is at home plate with a baseball bat\n",
            "- Woman baseball player in 1940s uniform swinging bat.\n"
          ]
        }
      ],
      "source": [
        "import json\n",
        "import os\n",
        "import random\n",
        "from collections import defaultdict\n",
        "import argparse\n",
        "\n",
        "# Paths and args (unchanged)\n",
        "def parse_args():\n",
        "    parser = argparse.ArgumentParser(description=\"Image Captioning Model\")\n",
        "    parser.add_argument('--data-dir', default='/kaggle/input/coco-2017-dataset/coco2017', help='Path to COCO 2017 dataset')\n",
        "    parser.add_argument('--checkpoint-dir', default='/kaggle/working/checkpoints', help='Path to save checkpoints')\n",
        "    parser.add_argument('--glove-path', default='/kaggle/working/glove.6B.300d.txt', help='Path to GloVe embeddings')\n",
        "    return parser.parse_args(args=[])\n",
        "\n",
        "args = parse_args()\n",
        "DATA_DIR = args.data_dir\n",
        "ANNOTATION_FILE = os.path.join(DATA_DIR, 'annotations', 'captions_train2017.json')\n",
        "ANNOTATION_FILE2 = os.path.join(DATA_DIR, 'annotations', 'captions_val2017.json')\n",
        "IMAGE_FOLDER = os.path.join(DATA_DIR, 'train2017')\n",
        "IMAGE_FOLDER2 = os.path.join(DATA_DIR, 'val2017')\n",
        "# CHECKPOINT_DIR = args.checkpoint_dir\n",
        "CHECKPOINT_DIR = '/content/drive/My Drive/fyp_2/checkpoints'\n",
        "GLOVE_PATH = args.glove_path\n",
        "\n",
        "# DATA_DIR = kagglehub.dataset_download('awsaf49/coco-2017-dataset')\n",
        "# ANNOTATION_FILE = os.path.join(DATA_DIR, 'annotations', 'captions_train2017.json')\n",
        "# ANNOTATION_FILE2 = os.path.join(DATA_DIR, 'annotations', 'captions_val2017.json')\n",
        "# IMAGE_FOLDER = os.path.join(DATA_DIR, 'train2017')\n",
        "# IMAGE_FOLDER2 = os.path.join(DATA_DIR, 'val2017')\n",
        "\n",
        "# Load annotations\n",
        "with open(ANNOTATION_FILE, 'r') as f:\n",
        "    annotations = json.load(f)\n",
        "\n",
        "# Build a dictionary: image_id -> list of captions\n",
        "captions_dict = defaultdict(list)\n",
        "for ann in annotations['annotations']:\n",
        "    image_id = ann['image_id']\n",
        "    caption = ann['caption']\n",
        "    captions_dict[image_id].append(caption)\n",
        "\n",
        "# Use all image IDs\n",
        "all_image_ids = list(captions_dict.keys())\n",
        "selected_image_ids = all_image_ids  # No sampling, use all images\n",
        "\n",
        "# Use the full captions_dict (no filtering needed)\n",
        "filtered_captions_dict = captions_dict\n",
        "\n",
        "# Check sample\n",
        "sample_image_id = random.choice(selected_image_ids)\n",
        "print(f\"Image ID: {sample_image_id}\")\n",
        "print(\"Captions:\")\n",
        "for cap in filtered_captions_dict[sample_image_id]:\n",
        "    print(\"-\", cap)"
      ]
    },
    {
      "cell_type": "code",
      "execution_count": 6,
      "metadata": {
        "colab": {
          "base_uri": "https://localhost:8080/"
        },
        "id": "6q5aaG3YMsAK",
        "outputId": "6e4a77ab-1c41-4b26-8ccb-398b656284d6"
      },
      "outputs": [
        {
          "output_type": "stream",
          "name": "stderr",
          "text": [
            "[nltk_data] Downloading package punkt_tab to /root/nltk_data...\n",
            "[nltk_data]   Unzipping tokenizers/punkt_tab.zip.\n"
          ]
        },
        {
          "output_type": "execute_result",
          "data": {
            "text/plain": [
              "True"
            ]
          },
          "metadata": {},
          "execution_count": 6
        }
      ],
      "source": [
        "import nltk\n",
        "nltk.download('punkt_tab')"
      ]
    },
    {
      "cell_type": "code",
      "execution_count": 7,
      "metadata": {
        "colab": {
          "base_uri": "https://localhost:8080/"
        },
        "id": "OQC2PBefEgCV",
        "outputId": "2b1a93d2-627f-4c6a-ddea-b8ee51ccb9f7"
      },
      "outputs": [
        {
          "output_type": "stream",
          "name": "stdout",
          "text": [
            "Cleaned captions for image ID: 363848\n",
            "['a', 'woman', 'in', 'a', 'dress', 'holding', 'a', 'baseball', 'bat']\n",
            "['older', 'black', 'and', 'white', 'photo', 'of', 'a', 'woman', 'playing', 'baseball', 'and', 'swinging', 'a', 'bat']\n",
            "['a', 'young', 'woman', 'is', 'playing', 'softball', 'in', 'a', 'dress']\n",
            "['a', 'lady', 'that', 'is', 'at', 'home', 'plate', 'with', 'a', 'baseball', 'bat']\n",
            "['woman', 'baseball', 'player', 'in', '1940s', 'uniform', 'swinging', 'bat']\n"
          ]
        }
      ],
      "source": [
        "from nltk.tokenize import word_tokenize\n",
        "import re\n",
        "\n",
        "def clean_caption(caption):\n",
        "    caption = caption.lower()\n",
        "    caption = re.sub(r\"[^a-z0-9\\s]\", \"\", caption)\n",
        "    caption = re.sub(r\"\\s+\", \" \", caption).strip()\n",
        "    return caption\n",
        "\n",
        "# Clean and tokenize captions for selected images\n",
        "cleaned_captions_dict = {}\n",
        "for image_id in selected_image_ids:\n",
        "    captions = filtered_captions_dict[image_id]\n",
        "    cleaned_captions = []\n",
        "    for cap in captions:\n",
        "        clean_cap = clean_caption(cap)\n",
        "        tokens = word_tokenize(clean_cap)\n",
        "        cleaned_captions.append(tokens)\n",
        "    cleaned_captions_dict[image_id] = cleaned_captions\n",
        "\n",
        "# Check cleaned sample\n",
        "print(\"Cleaned captions for image ID:\", sample_image_id)\n",
        "for cap in cleaned_captions_dict[sample_image_id]:\n",
        "    print(cap)"
      ]
    },
    {
      "cell_type": "code",
      "execution_count": 8,
      "metadata": {
        "colab": {
          "base_uri": "https://localhost:8080/"
        },
        "id": "cPMODq_vEgCW",
        "outputId": "33b682c9-0de4-4cd8-bd9c-a6089bf5ecbf"
      },
      "outputs": [
        {
          "output_type": "stream",
          "name": "stdout",
          "text": [
            "Vocabulary size: 10307\n",
            "Sample word map entries:\n",
            "<pad>: 0\n",
            "<start>: 1\n",
            "<end>: 2\n",
            "<unk>: 3\n",
            "a: 4\n",
            "bicycle: 5\n",
            "replica: 6\n",
            "with: 7\n",
            "clock: 8\n",
            "as: 9\n"
          ]
        }
      ],
      "source": [
        "from collections import Counter\n",
        "\n",
        "min_word_freq = 5\n",
        "word_freq = Counter()\n",
        "\n",
        "# Count word frequencies for selected images\n",
        "for image_id in selected_image_ids:\n",
        "    for tokens in cleaned_captions_dict[image_id]:\n",
        "        word_freq.update(tokens)\n",
        "\n",
        "# Filter words below the threshold\n",
        "words = [word for word in word_freq if word_freq[word] >= min_word_freq]\n",
        "\n",
        "# Special tokens\n",
        "word_map = {\n",
        "    '<pad>': 0,\n",
        "    '<start>': 1,\n",
        "    '<end>': 2,\n",
        "    '<unk>': 3\n",
        "}\n",
        "\n",
        "# Add the remaining words\n",
        "for i, word in enumerate(words, start=4):\n",
        "    word_map[word] = i\n",
        "\n",
        "# Reverse map\n",
        "idx2word = {v: k for k, v in word_map.items()}\n",
        "\n",
        "print(f\"Vocabulary size: {len(word_map)}\")\n",
        "print(\"Sample word map entries:\")\n",
        "for i, (word, idx) in enumerate(list(word_map.items())[:10]):\n",
        "    print(f\"{word}: {idx}\")"
      ]
    },
    {
      "cell_type": "code",
      "execution_count": 9,
      "metadata": {
        "colab": {
          "base_uri": "https://localhost:8080/"
        },
        "id": "dJV8EMpeEgCW",
        "outputId": "dc6f74ef-aeb9-4393-b372-bebf9ef7783f"
      },
      "outputs": [
        {
          "output_type": "stream",
          "name": "stdout",
          "text": [
            "Encoded captions for image ID: 363848\n",
            "[1, 4, 370, 20, 4, 389, 262, 4, 2200, 4563, 2]\n",
            "[1, 214, 16, 29, 30, 511, 25, 4, 370, 393, 2200, 29, 2816, 4, 4563, 2]\n",
            "[1, 4, 258, 370, 22, 393, 8290, 20, 4, 389, 2]\n",
            "[1, 4, 776, 44, 22, 175, 106, 316, 7, 4, 2200, 4563, 2]\n",
            "[1, 370, 2200, 2602, 20, 10120, 1241, 2816, 4563, 2]\n"
          ]
        }
      ],
      "source": [
        "encoded_captions = {}\n",
        "batch_size = 1000\n",
        "for i in range(0, len(selected_image_ids), batch_size):\n",
        "    batch_ids = selected_image_ids[i:i+batch_size]\n",
        "    for image_id in batch_ids:\n",
        "        captions = cleaned_captions_dict[image_id]\n",
        "        encoded = []\n",
        "        for tokens in captions:\n",
        "            enc = [word_map.get(word, word_map['<unk>']) for word in tokens]\n",
        "            enc = [word_map['<start>']] + enc + [word_map['<end>']]\n",
        "            encoded.append(enc)\n",
        "        encoded_captions[image_id] = encoded\n",
        "\n",
        "# Check sample\n",
        "print(\"Encoded captions for image ID:\", sample_image_id)\n",
        "for cap in encoded_captions[sample_image_id]:\n",
        "    print(cap)"
      ]
    },
    {
      "cell_type": "code",
      "execution_count": 33,
      "metadata": {
        "id": "JoOddmhSEgCX"
      },
      "outputs": [],
      "source": [
        "import json\n",
        "\n",
        "# Save encoded captions for selected images\n",
        "with open('encoded_captions.json', 'w') as f:\n",
        "    json.dump({str(k): v for k, v in encoded_captions.items()}, f)\n",
        "\n",
        "# Save word map\n",
        "with open('word_map.json', 'w') as f:\n",
        "    json.dump(word_map, f)"
      ]
    },
    {
      "cell_type": "code",
      "source": [
        "with open(os.path.join(CHECKPOINT_DIR, 'encoded_captions.json'), 'w') as f:\n",
        "    json.dump({str(k): v for k, v in encoded_captions.items()}, f)\n",
        "\n",
        "with open(os.path.join(CHECKPOINT_DIR, 'word_map.json'), 'w') as f:\n",
        "    json.dump(word_map, f)"
      ],
      "metadata": {
        "id": "T4AFKKV5-uKT"
      },
      "execution_count": 10,
      "outputs": []
    },
    {
      "cell_type": "code",
      "execution_count": 11,
      "metadata": {
        "id": "TWgR8DBpU0FT"
      },
      "outputs": [],
      "source": [
        "# Define the directory in Google Drive where GloVe files will be stored\n",
        "GLOVE_DIR = '/content/drive/My Drive/fyp_2'  # Path to your folder\n",
        "\n",
        "# Create the directory if it doesn't exist\n",
        "if not os.path.exists(GLOVE_DIR):\n",
        "    os.makedirs(GLOVE_DIR, exist_ok=True)\n",
        "\n",
        "# Check if glove.6B.300d.txt exists in the Google Drive directory\n",
        "glove_file = os.path.join(GLOVE_DIR, 'glove.6B.300d.txt')\n",
        "zip_file = os.path.join(GLOVE_DIR, 'glove.6B.zip')\n",
        "\n",
        "if not os.path.exists(glove_file):\n",
        "    # Download GloVe embeddings\n",
        "    !wget http://nlp.stanford.edu/data/glove.6B.zip -O \"{zip_file}\"\n",
        "    # Unzip the file\n",
        "    !unzip \"{zip_file}\" -d \"{GLOVE_DIR}\"\n",
        "    # Remove the zip file\n",
        "    !rm \"{zip_file}\""
      ]
    },
    {
      "cell_type": "code",
      "source": [
        "import numpy as np\n",
        "import os\n",
        "import logging\n",
        "\n",
        "# Set up logging (if not already set)\n",
        "logging.basicConfig(level=logging.INFO, format='%(asctime)s - %(levelname)s - %(message)s')\n",
        "logger = logging.getLogger(__name__)\n",
        "\n",
        "# Initialize the glove dictionary\n",
        "glove = {}\n",
        "\n",
        "# Path to GloVe file\n",
        "glove_file = '/content/drive/My Drive/fyp_2/glove.6B.300d.txt'  # Adjust path if needed\n",
        "\n",
        "try:\n",
        "    with open(glove_file, 'r', encoding='utf-8') as f:\n",
        "        for line in f:\n",
        "            tokens = line.strip().split()\n",
        "            word = tokens[0]\n",
        "            vec = np.array(tokens[1:], dtype=np.float32)\n",
        "            glove[word] = vec\n",
        "    logger.info(\"GloVe embeddings loaded successfully\")\n",
        "except FileNotFoundError:\n",
        "    logger.error(f\"GloVe file not found at {glove_file}\")\n",
        "    raise\n",
        "except Exception as e:\n",
        "    logger.error(f\"Error loading GloVe embeddings: {str(e)}\")\n",
        "    raise"
      ],
      "metadata": {
        "id": "HG3guYIP_7BD"
      },
      "execution_count": 13,
      "outputs": []
    },
    {
      "cell_type": "code",
      "source": [
        "# Build embedding matrix\n",
        "embedding_dimension = 300\n",
        "vocab_size = len(word_map)\n",
        "embedding_matrix = np.zeros((vocab_size, embedding_dimension), dtype=np.float32)\n",
        "for word, idx in word_map.items():\n",
        "    if word in glove:  # Use glove dictionary, not glove_file\n",
        "        embedding_matrix[idx] = glove[word]\n",
        "    else:\n",
        "        embedding_matrix[idx] = np.random.normal(scale=0.6, size=(embedding_dimension,))\n",
        "np.save(os.path.join(CHECKPOINT_DIR, 'embedding_matrix.npy'), embedding_matrix)\n",
        "logger.info(f\"Embedding matrix shape: {embedding_matrix.shape}\")\n",
        "\n",
        "print(\"Done. Shape:\", embedding_matrix.shape)"
      ],
      "metadata": {
        "colab": {
          "base_uri": "https://localhost:8080/"
        },
        "id": "uBXbijmD44al",
        "outputId": "72f86bc1-dfa5-49ee-ad3a-485fa4152676"
      },
      "execution_count": 26,
      "outputs": [
        {
          "output_type": "stream",
          "name": "stdout",
          "text": [
            "Done. Shape: (10307, 300)\n"
          ]
        }
      ]
    },
    {
      "cell_type": "code",
      "execution_count": 31,
      "metadata": {
        "id": "pn10Qj_VEgCY",
        "colab": {
          "base_uri": "https://localhost:8080/"
        },
        "outputId": "43d2411c-8743-4078-a06a-43855b5f34bf"
      },
      "outputs": [
        {
          "output_type": "stream",
          "name": "stdout",
          "text": [
            "Image batch shape: torch.Size([4, 3, 256, 256])\n",
            "Caption batch shape: torch.Size([4, 14])\n",
            "Lengths: tensor([14, 12, 12, 13])\n"
          ]
        }
      ],
      "source": [
        "import torch\n",
        "from torch.utils.data import Dataset\n",
        "from torchvision import transforms\n",
        "from PIL import Image\n",
        "import random\n",
        "import json\n",
        "import os\n",
        "\n",
        "# class CaptionDataset(Dataset):\n",
        "#     def __init__(self, image_folder, encoded_captions_file, word_map_file, transform=None, selected_image_ids=None):\n",
        "#         with open(encoded_captions_file, 'r') as j:\n",
        "#             self.captions = json.load(j)\n",
        "#         with open(word_map_file, 'r') as j:\n",
        "#             self.word_map = json.load(j)\n",
        "#         self.image_folder = image_folder\n",
        "#         self.image_ids = selected_image_ids if selected_image_ids is not None else list(self.captions.keys())\n",
        "#         self.transform = transform\n",
        "\n",
        "#     def __len__(self):\n",
        "#         return len(self.image_ids)\n",
        "\n",
        "#     def __getitem__(self, index):\n",
        "#         image_id = self.image_ids[index]\n",
        "#         image_path = os.path.join(self.image_folder, f\"{int(image_id):012}.jpg\")\n",
        "#         img = Image.open(image_path).convert('RGB')\n",
        "#         if self.transform is not None:\n",
        "#             img = self.transform(img)\n",
        "#         caps = self.captions[str(image_id)]\n",
        "#         caption = random.choice(caps)\n",
        "#         caption = torch.tensor(caption, dtype=torch.long)\n",
        "#         return img, caption\n",
        "\n",
        "from torch.utils.data import Dataset, DataLoader\n",
        "from torchvision import transforms\n",
        "\n",
        "class CaptionDataset(Dataset):\n",
        "    def __init__(self, image_folder, encoded_captions, transform=None):\n",
        "        self.image_folder = image_folder\n",
        "        self.image_ids = list(encoded_captions.keys())\n",
        "        self.encoded_captions = encoded_captions\n",
        "        self.transform = transform\n",
        "\n",
        "    def __len__(self):\n",
        "        return len(self.image_ids)\n",
        "\n",
        "    def __getitem__(self, idx):\n",
        "        image_id = self.image_ids[idx]\n",
        "        image_path = os.path.join(self.image_folder, f\"{int(image_id):012}.jpg\")\n",
        "        image = Image.open(image_path).convert(\"RGB\")\n",
        "        if self.transform:\n",
        "            image = self.transform(image)\n",
        "        captions = self.encoded_captions[image_id]\n",
        "        return image, captions\n",
        "\n",
        "# # Example DataLoader\n",
        "# dataset = CaptionDataset(IMAGE_FOLDER, encoded_captions, transform=transform)\n",
        "# dataloader = DataLoader(dataset, batch_size=32, shuffle=True, num_workers=2)"
      ]
    },
    {
      "cell_type": "code",
      "source": [
        "def caption_collate_fn(batch):\n",
        "    \"\"\"\n",
        "    Custom collate function to handle batches of (image, caption) with variable-length captions.\n",
        "    \"\"\"\n",
        "    images = []\n",
        "    captions = []\n",
        "\n",
        "    for img, cap in batch:\n",
        "        images.append(img)\n",
        "        captions.append(cap)\n",
        "\n",
        "    # Stack images (they are all same size)\n",
        "    images = torch.stack(images, dim=0)\n",
        "\n",
        "    # Pad captions to the max length in the batch\n",
        "    lengths = [len(cap) for cap in captions]\n",
        "    max_len = max(lengths)\n",
        "    padded_captions = torch.zeros(len(captions), max_len, dtype=torch.long)\n",
        "\n",
        "    for i, cap in enumerate(captions):\n",
        "        end = lengths[i]\n",
        "        padded_captions[i, :end] = cap[:end]\n",
        "\n",
        "    return images, padded_captions, torch.tensor(lengths)"
      ],
      "metadata": {
        "id": "MGZtgebJ8Zz-"
      },
      "execution_count": null,
      "outputs": []
    },
    {
      "cell_type": "code",
      "source": [
        "from torch.utils.data import DataLoader\n",
        "from torchvision import transforms\n",
        "\n",
        "# Image preprocessing\n",
        "transform = transforms.Compose([\n",
        "    transforms.Resize((256, 256)),\n",
        "    transforms.ToTensor(),\n",
        "    transforms.Normalize(mean=[0.485, 0.456, 0.406],\n",
        "                        std=[0.229, 0.224, 0.225])\n",
        "])\n",
        "\n",
        "# Dataset\n",
        "dataset = CaptionDataset(\n",
        "    image_folder='/kaggle/input/coco-2017-dataset/coco2017/train2017',\n",
        "    encoded_captions_file='encoded_captions.json',\n",
        "    word_map_file='word_map.json',\n",
        "    transform=transform,\n",
        "    selected_image_ids=[str(id) for id in selected_image_ids]  # Convert to strings for JSON\n",
        ")\n",
        "\n",
        "# DataLoader\n",
        "dataloader = DataLoader(\n",
        "    dataset,\n",
        "    batch_size=4,\n",
        "    shuffle=True,\n",
        "    num_workers=2,\n",
        "    pin_memory=True,\n",
        "    collate_fn=caption_collate_fn\n",
        ")\n",
        "\n",
        "# Check sample batch\n",
        "for images, captions, lengths in dataloader:\n",
        "    print(\"Image batch shape:\", images.shape)\n",
        "    print(\"Caption batch shape:\", captions.shape)\n",
        "    print(\"Lengths:\", lengths)\n",
        "    break"
      ],
      "metadata": {
        "id": "_k5EHcNW8bYh"
      },
      "execution_count": null,
      "outputs": []
    },
    {
      "cell_type": "code",
      "execution_count": 28,
      "metadata": {
        "id": "lDp0RzsxEgCZ"
      },
      "outputs": [],
      "source": [
        "with open(ANNOTATION_FILE2, 'r') as f:\n",
        "    val_annotations = json.load(f)\n",
        "\n",
        "val_captions_dict = defaultdict(list)\n",
        "for ann in val_annotations['annotations']:\n",
        "    image_id = ann['image_id']\n",
        "    caption = ann['caption']\n",
        "    val_captions_dict[image_id].append(caption)\n",
        "\n",
        "random.seed(42)\n",
        "val_image_ids = list(val_captions_dict.keys())\n",
        "selected_val_image_ids = list(val_captions_dict.keys())\n",
        "filtered_val_captions_dict = {image_id: val_captions_dict[image_id] for image_id in selected_val_image_ids}\n",
        "\n",
        "# Clean and tokenize validation captions\n",
        "cleaned_val_captions_dict = {}\n",
        "for image_id in selected_val_image_ids:\n",
        "    captions = filtered_val_captions_dict[image_id]\n",
        "    cleaned_captions = []\n",
        "    for cap in captions:\n",
        "        clean_cap = clean_caption(cap)\n",
        "        tokens = word_tokenize(clean_cap)\n",
        "        cleaned_captions.append(tokens)\n",
        "    cleaned_val_captions_dict[image_id] = cleaned_captions\n",
        "\n",
        "# Encode validation captions\n",
        "encoded_val_captions = {}\n",
        "for image_id in selected_val_image_ids:\n",
        "    captions = cleaned_val_captions_dict[image_id]\n",
        "    encoded = []\n",
        "    for tokens in captions:\n",
        "        enc = [word_map.get(word, word_map['<unk>']) for word in tokens]\n",
        "        enc = [word_map['<start>']] + enc + [word_map['<end>']]\n",
        "        encoded.append(enc)\n",
        "    encoded_val_captions[image_id] = encoded\n",
        "\n",
        "# Save encoded val captions\n",
        "with open('encoded_captions_val.json', 'w') as f:\n",
        "    json.dump({str(k): v for k, v in encoded_val_captions.items()}, f)"
      ]
    },
    {
      "cell_type": "code",
      "execution_count": 32,
      "metadata": {
        "colab": {
          "base_uri": "https://localhost:8080/",
          "height": 211
        },
        "id": "BugfgFZ8EgCZ",
        "outputId": "ac63331a-bf14-4d69-a108-bb983c827585"
      },
      "outputs": [
        {
          "output_type": "error",
          "ename": "NameError",
          "evalue": "name 'val_dataset' is not defined",
          "traceback": [
            "\u001b[0;31m---------------------------------------------------------------------------\u001b[0m",
            "\u001b[0;31mNameError\u001b[0m                                 Traceback (most recent call last)",
            "\u001b[0;32m<ipython-input-32-b65332f0493d>\u001b[0m in \u001b[0;36m<cell line: 0>\u001b[0;34m()\u001b[0m\n\u001b[1;32m      1\u001b[0m \u001b[0;31m# Validation DataLoader\u001b[0m\u001b[0;34m\u001b[0m\u001b[0;34m\u001b[0m\u001b[0m\n\u001b[1;32m      2\u001b[0m val_dataloader = DataLoader(\n\u001b[0;32m----> 3\u001b[0;31m     \u001b[0mval_dataset\u001b[0m\u001b[0;34m,\u001b[0m\u001b[0;34m\u001b[0m\u001b[0;34m\u001b[0m\u001b[0m\n\u001b[0m\u001b[1;32m      4\u001b[0m     \u001b[0mbatch_size\u001b[0m\u001b[0;34m=\u001b[0m\u001b[0;36m4\u001b[0m\u001b[0;34m,\u001b[0m\u001b[0;34m\u001b[0m\u001b[0;34m\u001b[0m\u001b[0m\n\u001b[1;32m      5\u001b[0m     \u001b[0mshuffle\u001b[0m\u001b[0;34m=\u001b[0m\u001b[0;32mFalse\u001b[0m\u001b[0;34m,\u001b[0m\u001b[0;34m\u001b[0m\u001b[0;34m\u001b[0m\u001b[0m\n",
            "\u001b[0;31mNameError\u001b[0m: name 'val_dataset' is not defined"
          ]
        }
      ],
      "source": [
        "# Validation dataset\n",
        "val_dataset = CaptionDataset(\n",
        "    image_folder='/kaggle/input/coco-2017-dataset/coco2017/val2017',\n",
        "    encoded_captions_file='encoded_captions_val.json',\n",
        "    word_map_file='word_map.json',\n",
        "    transform=transform,\n",
        "    selected_image_ids=[str(id) for id in selected_val_image_ids]\n",
        ")\n",
        "\n",
        "val_dataloader = DataLoader(\n",
        "    val_dataset,\n",
        "    batch_size=4,\n",
        "    shuffle=False,\n",
        "    num_workers=2,\n",
        "    pin_memory=True,\n",
        "    collate_fn=caption_collate_fn\n",
        ")\n",
        "\n",
        "# Check sample batch\n",
        "for images, captions, lengths in val_dataloader:\n",
        "    print(\"Image batch shape:\", images.shape)\n",
        "    print(\"Caption batch shape:\", captions.shape)\n",
        "    print(\"Lengths:\", lengths)\n",
        "    break"
      ]
    },
    {
      "cell_type": "code",
      "execution_count": null,
      "metadata": {
        "colab": {
          "base_uri": "https://localhost:8080/"
        },
        "id": "mEeu7hYfEgCa",
        "outputId": "fcf29373-713e-49b6-d88c-28c823d11ebc"
      },
      "outputs": [
        {
          "name": "stdout",
          "output_type": "stream",
          "text": [
            "Training dataset size: 10000\n",
            "Validation dataset size: 1000\n"
          ]
        }
      ],
      "source": [
        "print(f\"Training dataset size: {len(dataset)}\")\n",
        "print(f\"Validation dataset size: {len(val_dataset)}\")"
      ]
    },
    {
      "cell_type": "markdown",
      "metadata": {
        "id": "3kEJBXVwEgCa"
      },
      "source": [
        "## Attention Module"
      ]
    },
    {
      "cell_type": "code",
      "execution_count": null,
      "metadata": {
        "id": "PsiEcIOzEgCb"
      },
      "outputs": [],
      "source": [
        "import torch\n",
        "import torch.nn as nn\n",
        "import torch.nn.functional as F\n",
        "\n",
        "class Attention(nn.Module):\n",
        "    def __init__(self, encoder_dim, decoder_dim, attention_dim):\n",
        "        super(Attention, self).__init__()\n",
        "        self.encoder_att = nn.Linear(encoder_dim, attention_dim)  # Linear layer to transform encoder's output\n",
        "        self.decoder_att = nn.Linear(decoder_dim, attention_dim)  # Linear layer to transform decoder's output\n",
        "        self.full_att = nn.Linear(attention_dim, 1)  # Combine them and produce scalar energy\n",
        "        self.relu = nn.ReLU()\n",
        "        self.softmax = nn.Softmax(dim=1)  # Softmax over the pixels\n",
        "\n",
        "    def forward(self, encoder_out, decoder_hidden):\n",
        "        \"\"\"\n",
        "        encoder_out: encoded images, shape -> (batch_size, num_pixels, encoder_dim)\n",
        "        decoder_hidden: previous decoder hidden state, shape -> (batch_size, decoder_dim)\n",
        "        \"\"\"\n",
        "        att1 = self.encoder_att(encoder_out)  # (batch_size, num_pixels, attention_dim)\n",
        "        att2 = self.decoder_att(decoder_hidden)  # (batch_size, attention_dim)\n",
        "        att = self.full_att(self.relu(att1 + att2.unsqueeze(1))).squeeze(2)  # (batch_size, num_pixels)\n",
        "        alpha = self.softmax(att)  # (batch_size, num_pixels)\n",
        "        attention_weighted_encoding = (encoder_out * alpha.unsqueeze(2)).sum(dim=1)  # (batch_size, encoder_dim)\n",
        "\n",
        "        return attention_weighted_encoding, alpha"
      ]
    },
    {
      "cell_type": "markdown",
      "metadata": {
        "id": "ciusVM4jEgCb"
      },
      "source": [
        "## Decoder with Attention"
      ]
    },
    {
      "cell_type": "code",
      "execution_count": null,
      "metadata": {
        "id": "SsDPW0vmEgCb"
      },
      "outputs": [],
      "source": [
        "class DecoderWithAttention(nn.Module):\n",
        "    def __init__(self, attention_dim, embed_dim, decoder_dim, vocab_size, encoder_dim=2048, dropout=0.5):\n",
        "        super(DecoderWithAttention, self).__init__()\n",
        "\n",
        "        self.encoder_dim = encoder_dim\n",
        "        self.attention_dim = attention_dim\n",
        "        self.embed_dim = embed_dim\n",
        "        self.decoder_dim = decoder_dim\n",
        "        self.vocab_size = vocab_size\n",
        "        self.dropout = dropout\n",
        "\n",
        "        self.attention = Attention(encoder_dim, decoder_dim, attention_dim)  # attention network\n",
        "\n",
        "        self.embedding = nn.Embedding(vocab_size, embed_dim)  # embedding layer\n",
        "        self.embedding.weight.data.copy_(torch.from_numpy(embedding_matrix))\n",
        "        self.embedding.weight.requires_grad = False  # Optional: freeze during training\n",
        "\n",
        "        self.dropout = nn.Dropout(p=self.dropout)\n",
        "        self.decode_step = nn.LSTMCell(embed_dim + encoder_dim, decoder_dim, bias=True)  # decoding LSTMCell\n",
        "        self.init_h = nn.Linear(encoder_dim, decoder_dim)  # initialize hidden state\n",
        "        self.init_c = nn.Linear(encoder_dim, decoder_dim)  # initialize cell state\n",
        "        self.f_beta = nn.Linear(decoder_dim, encoder_dim)  # create a gating scalar\n",
        "        self.sigmoid = nn.Sigmoid()\n",
        "        self.fc = nn.Linear(decoder_dim, vocab_size)  # output layer\n",
        "\n",
        "        self.init_weights()  # initialize weights\n",
        "\n",
        "    def init_weights(self):\n",
        "        # self.embedding.weight.data.uniform_(-0.1, 0.1)\n",
        "        self.fc.bias.data.fill_(0)\n",
        "        self.fc.weight.data.uniform_(-0.1, 0.1)\n",
        "\n",
        "    def init_hidden_state(self, encoder_out):\n",
        "        mean_encoder_out = encoder_out.mean(dim=1)\n",
        "        h = self.init_h(mean_encoder_out)  # (batch_size, decoder_dim)\n",
        "        c = self.init_c(mean_encoder_out)\n",
        "        return h, c\n",
        "\n",
        "    def forward(self, encoder_out, encoded_captions, caption_lengths):\n",
        "        \"\"\"\n",
        "        Forward propagation.\n",
        "        :param encoder_out: encoded images, shape (batch_size, num_pixels, encoder_dim)\n",
        "        :param encoded_captions: encoded captions, shape (batch_size, max_caption_length)\n",
        "        :param caption_lengths: caption lengths, shape (batch_size, 1)\n",
        "        :return: scores for vocabulary, sorted encoded captions, decode lengths, weights, sort indices\n",
        "        \"\"\"\n",
        "        batch_size = encoder_out.size(0)\n",
        "        encoder_dim = encoder_out.size(-1)\n",
        "        vocab_size = self.vocab_size\n",
        "\n",
        "        # Flatten image\n",
        "        encoder_out = encoder_out.view(batch_size, -1, encoder_dim)  # (batch_size, num_pixels, encoder_dim)\n",
        "        num_pixels = encoder_out.size(1)\n",
        "\n",
        "        # Sort input data by decreasing lengths\n",
        "        # Corrected line\n",
        "        caption_lengths, sort_ind = caption_lengths.sort(dim=0, descending=True)\n",
        "        encoder_out = encoder_out[sort_ind]\n",
        "        encoded_captions = encoded_captions[sort_ind]\n",
        "\n",
        "        # Embedding\n",
        "        embeddings = self.embedding(encoded_captions)  # (batch_size, max_caption_length, embed_dim)\n",
        "\n",
        "        # Initialize LSTM state\n",
        "        h, c = self.init_hidden_state(encoder_out)  # (batch_size, decoder_dim)\n",
        "\n",
        "        # We won't decode at the <end> position, since we've finished generating as soon as we generate <end>\n",
        "        decode_lengths = caption_lengths - 1\n",
        "\n",
        "        # Create tensors to hold word prediction scores and alphas\n",
        "        predictions = torch.zeros(batch_size, max(decode_lengths), vocab_size).to(encoder_out.device)\n",
        "        alphas = torch.zeros(batch_size, max(decode_lengths), num_pixels).to(encoder_out.device)\n",
        "\n",
        "        for t in range(max(decode_lengths)):\n",
        "            batch_size_t = sum([l > t for l in decode_lengths])\n",
        "            attention_weighted_encoding, alpha = self.attention(encoder_out[:batch_size_t],\n",
        "                                                                h[:batch_size_t])\n",
        "            gate = self.sigmoid(self.f_beta(h[:batch_size_t]))  # gating scalar\n",
        "            attention_weighted_encoding = gate * attention_weighted_encoding\n",
        "\n",
        "            input_lstm = torch.cat([embeddings[:batch_size_t, t, :], attention_weighted_encoding], dim=1)\n",
        "            h, c = self.decode_step(input_lstm, (h[:batch_size_t], c[:batch_size_t]))  # LSTM step\n",
        "            preds = self.fc(self.dropout(h))  # (batch_size_t, vocab_size)\n",
        "            predictions[:batch_size_t, t, :] = preds\n",
        "            alphas[:batch_size_t, t, :] = alpha\n",
        "\n",
        "        return predictions, encoded_captions, decode_lengths, alphas, sort_ind"
      ]
    },
    {
      "cell_type": "code",
      "execution_count": null,
      "metadata": {
        "id": "o4F4w-eSEgCc"
      },
      "outputs": [],
      "source": [
        "from torchvision.models import resnet101, ResNet101_Weights\n",
        "\n",
        "class Encoder(nn.Module):\n",
        "    def __init__(self, encoded_image_size=14):\n",
        "        super().__init__()\n",
        "        self.cnn = resnet101(weights=ResNet101_Weights.IMAGENET1K_V1)\n",
        "        self.adaptive_pool = nn.AdaptiveAvgPool2d((encoded_image_size, encoded_image_size))\n",
        "        self.fine_tune()\n",
        "\n",
        "    def forward(self, images):\n",
        "        x = self.cnn.conv1(images)\n",
        "        x = self.cnn.bn1(x)\n",
        "        x = self.cnn.relu(x)\n",
        "        x = self.cnn.maxpool(x)\n",
        "\n",
        "        x = self.cnn.layer1(x)\n",
        "        x = self.cnn.layer2(x)\n",
        "        x = self.cnn.layer3(x)\n",
        "        x = self.cnn.layer4(x)  # Shape: (batch_size, 2048, 7, 7)\n",
        "\n",
        "        x = self.adaptive_pool(x)  # (batch_size, 2048, encoded_image_size, encoded_image_size)\n",
        "        x = x.permute(0, 2, 3, 1)  # (batch_size, encoded_size, encoded_size, 2048)\n",
        "        x = x.view(x.size(0), -1, x.size(-1))  # (batch_size, num_pixels=encoded_size^2, 2048)\n",
        "        return x\n",
        "\n",
        "    def fine_tune(self, fine_tune=True):\n",
        "        for p in self.cnn.parameters():\n",
        "            p.requires_grad = False  # Freeze all by default\n",
        "        if fine_tune:\n",
        "            # Fine-tune layer3 and layer4\n",
        "            for p in self.cnn.layer3.parameters():\n",
        "                p.requires_grad = True\n",
        "            for p in self.cnn.layer4.parameters():\n",
        "                p.requires_grad = True\n",
        "            for p in self.adaptive_pool.parameters():\n",
        "                p.requires_grad = True"
      ]
    },
    {
      "cell_type": "code",
      "execution_count": null,
      "metadata": {
        "id": "Kx7VxCaTEgCc"
      },
      "outputs": [],
      "source": [
        "import os\n",
        "import glob\n",
        "\n",
        "def save_checkpoint(encoder, decoder, optimizer, epoch, train_loss, val_loss, word_map,\n",
        "                   checkpoint_dir=CHECKPOINT_DIR, best_val_loss=float('inf'), is_best=False):\n",
        "    os.makedirs(CHECKPOINT_DIR, exist_ok=True)\n",
        "    checkpoint_path = os.path.join(checkpoint_dir, f'checkpoint_epoch_{epoch + 1}.pth')\n",
        "    checkpoint = {\n",
        "        'epoch': epoch + 1,\n",
        "        'encoder_state_dict': encoder.state_dict(),\n",
        "        'decoder_state_dict': decoder.state_dict(),\n",
        "        'optimizer_state_dict': optimizer.state_dict(),\n",
        "        'train_loss': train_loss,\n",
        "        'val_loss': val_loss,\n",
        "        'word_map': word_map,\n",
        "        'best_val_loss': best_val_loss\n",
        "    }\n",
        "    try:\n",
        "        torch.save(checkpoint, checkpoint_path)\n",
        "        print(f\"Checkpoint saved: {checkpoint_path}\")\n",
        "        if is_best:\n",
        "            best_model_path = os.path.join(checkpoint_dir, 'best_model.pth')\n",
        "            torch.save(checkpoint, best_model_path)\n",
        "            print(f\"New best model saved with validation loss: {val_loss:.4f}\")\n",
        "        checkpoint_files = sorted(glob.glob(os.path.join(checkpoint_dir, 'checkpoint_epoch_*.pth')))\n",
        "        if len(checkpoint_files) > 3:\n",
        "            for old_checkpoint in checkpoint_files[:-3]:\n",
        "                os.remove(old_checkpoint)\n",
        "    except Exception as e:\n",
        "        print(f\"Error saving checkpoint: {e}\")\n",
        "        fallback_dir = '/content/checkpoints'\n",
        "        os.makedirs(fallback_dir, exist_ok=True)\n",
        "        fallback_path = os.path.join(fallback_dir, f'checkpoint_epoch_{epoch + 1}.pth')\n",
        "        torch.save(checkpoint, fallback_path)\n",
        "        print(f\"Checkpoint saved to fallback location: {fallback_path}\")\n",
        "\n",
        "def resume_from_checkpoint(checkpoint_path, encoder, decoder, optimizer, device):\n",
        "    \"\"\"Load checkpoint and resume training\"\"\"\n",
        "    print(f\"Loading checkpoint from {checkpoint_path}\")\n",
        "\n",
        "    # Load checkpoint on CPU to avoid GPU memory issues\n",
        "    checkpoint = torch.load(checkpoint_path, map_location='cpu')\n",
        "\n",
        "    # Load model states\n",
        "    encoder.load_state_dict(checkpoint['encoder_state_dict'])\n",
        "    decoder.load_state_dict(checkpoint['decoder_state_dict'])\n",
        "\n",
        "    # Move models to device after loading\n",
        "    encoder = encoder.to(device)\n",
        "    decoder = decoder.to(device)\n",
        "\n",
        "    # Load optimizer state\n",
        "    optimizer.load_state_dict(checkpoint['optimizer_state_dict'])\n",
        "\n",
        "    # Return the starting epoch and best validation loss\n",
        "    start_epoch = checkpoint['epoch']  # Continue from next epoch\n",
        "    best_val_loss = checkpoint.get('best_val_loss', float('inf'))\n",
        "\n",
        "    print(f\"Resuming from epoch {start_epoch} with best validation loss: {best_val_loss:.4f}\")\n",
        "    return encoder, decoder, optimizer, start_epoch, best_val_loss"
      ]
    },
    {
      "cell_type": "code",
      "execution_count": null,
      "metadata": {
        "colab": {
          "base_uri": "https://localhost:8080/"
        },
        "id": "1s8e931TEgCd",
        "outputId": "70891012-22de-4972-b968-fff77eb21788"
      },
      "outputs": [
        {
          "name": "stdout",
          "output_type": "stream",
          "text": [
            "Using device: cuda\n",
            "Encoder output shape: torch.Size([4, 196, 2048])\n",
            "Predictions shape: torch.Size([4, 12, 3387])\n"
          ]
        },
        {
          "name": "stderr",
          "output_type": "stream",
          "text": [
            "<ipython-input-121-e68131b897fa>:29: UserWarning: To copy construct from a tensor, it is recommended to use sourceTensor.clone().detach() or sourceTensor.clone().detach().requires_grad_(True), rather than torch.tensor(sourceTensor).\n",
            "  predictions, _, _, _, _ = decoder(encoder_out, captions, torch.tensor(lengths).clone().detach().to(device))\n"
          ]
        }
      ],
      "source": [
        "# Test encoder-decoder integration\n",
        "import torch\n",
        "from torchvision.models import ResNet101_Weights\n",
        "\n",
        "# Check if GPU is available, otherwise use CPU\n",
        "device = torch.device('cuda' if torch.cuda.is_available() else 'cpu')\n",
        "print(f\"Using device: {device}\")\n",
        "\n",
        "# encoder = Encoder(weights=ResNet101_Weights.IMAGENET1K_V1).to(device)\n",
        "encoder = Encoder().to(device)\n",
        "# encoder = Encoder(weights=ResNet101_Weights.DEFAULT).to(device)\n",
        "\n",
        "decoder = DecoderWithAttention(\n",
        "    attention_dim=512,\n",
        "    embed_dim=300,\n",
        "    decoder_dim=512,\n",
        "    vocab_size=len(word_map),\n",
        "    encoder_dim=2048,\n",
        "    dropout=0.5\n",
        ").to(device)\n",
        "\n",
        "# Test forward pass\n",
        "images, captions, lengths = next(iter(dataloader))\n",
        "images = images.to(device)\n",
        "captions = captions.to(device)\n",
        "\n",
        "encoder_out = encoder(images)\n",
        "# predictions, _, _, _, _ = decoder(encoder_out, captions, torch.tensor(lengths, device=device))\n",
        "predictions, _, _, _, _ = decoder(encoder_out, captions, torch.tensor(lengths).clone().detach().to(device))\n",
        "\n",
        "print(\"Encoder output shape:\", encoder_out.shape)  # Should be (batch_size, 196, 2048)\n",
        "print(\"Predictions shape:\", predictions.shape)     # Should be (batch_size, max_len, vocab_size)"
      ]
    },
    {
      "cell_type": "code",
      "execution_count": null,
      "metadata": {
        "id": "xgJEpLmHEgCd"
      },
      "outputs": [],
      "source": [
        "class MaskedCrossEntropyLoss(nn.Module):\n",
        "    def __init__(self):\n",
        "        super().__init__()\n",
        "        self.criterion = nn.CrossEntropyLoss(reduction='none', ignore_index=0)  # ignore <pad>\n",
        "\n",
        "    def forward(self, predictions, targets, lengths):\n",
        "        batch_size, max_len, vocab_size = predictions.shape\n",
        "\n",
        "        predictions = predictions.view(-1, vocab_size)      # (batch_size * max_len, vocab_size)\n",
        "        targets = targets.contiguous().view(-1)              # (batch_size * max_len)\n",
        "\n",
        "        losses = self.criterion(predictions, targets)        # (batch_size * max_len)\n",
        "\n",
        "        # Create mask\n",
        "        mask = torch.arange(max_len).expand(batch_size, max_len).to(lengths.device)\n",
        "        mask = (mask < lengths.unsqueeze(1)).float()         # (batch_size, max_len)\n",
        "        mask = mask.view(-1)                                 # Flatten to (batch_size * max_len)\n",
        "\n",
        "        losses = losses * mask\n",
        "        return losses.sum() / mask.sum()\n"
      ]
    },
    {
      "cell_type": "code",
      "execution_count": null,
      "metadata": {
        "id": "yhR1n_ddEgCd"
      },
      "outputs": [],
      "source": [
        "encoder = Encoder().to(device)\n",
        "decoder = DecoderWithAttention(\n",
        "    attention_dim=512,\n",
        "    embed_dim=300,\n",
        "    decoder_dim=512,\n",
        "    vocab_size=len(word_map),\n",
        "    encoder_dim=2048,\n",
        "    dropout=0.5\n",
        ").to(device)\n",
        "\n",
        "# Only fine-tune the encoder's adaptive pool layer\n",
        "encoder_params = (\n",
        "    list(encoder.cnn.layer3.parameters()) +\n",
        "    list(encoder.cnn.layer4.parameters()) +\n",
        "    list(encoder.adaptive_pool.parameters())\n",
        ")\n",
        "decoder_params = decoder.parameters()\n",
        "\n",
        "optimizer = torch.optim.Adam(\n",
        "    params=[\n",
        "        {'params': encoder_params, 'lr': 1e-4},  # Lower LR for encoder\n",
        "        {'params': decoder_params, 'lr': 4e-4}    # Higher LR for decoder\n",
        "    ],\n",
        "    weight_decay=1e-5\n",
        ")"
      ]
    },
    {
      "cell_type": "code",
      "execution_count": null,
      "metadata": {
        "id": "bAFDGe-_EgCd"
      },
      "outputs": [],
      "source": [
        "from torch.amp import GradScaler, autocast\n",
        "import time\n",
        "import logging\n",
        "\n",
        "def train_epoch(encoder, decoder, dataloader, criterion, optimizer, device, grad_clip=5.0):\n",
        "    encoder.train()\n",
        "    decoder.train()\n",
        "    total_loss = 0\n",
        "    scaler = GradScaler('cuda')\n",
        "    start_time = time.time()\n",
        "    total_batches = len(dataloader)\n",
        "    print_interval = max(1, total_batches // 100)  # Update every ~1% of batches\n",
        "\n",
        "    for i, (images, captions, lengths) in enumerate(dataloader):\n",
        "        try:\n",
        "            images = images.to(device, non_blocking=True)\n",
        "            captions = captions.to(device, non_blocking=True)\n",
        "            # lengths_tensor = torch.as_tensor(lengths, device=device)\n",
        "            lengths_tensor = lengths.clone().detach().to(device)\n",
        "\n",
        "            optimizer.zero_grad(set_to_none=True)\n",
        "            with autocast('cuda'):\n",
        "                encoder_out = encoder(images)\n",
        "                predictions, _, decode_lengths, _, _ = decoder(encoder_out, captions, lengths_tensor)\n",
        "                targets = captions[:, 1:]\n",
        "                predictions = predictions[:, :max(decode_lengths), :]\n",
        "                loss = criterion(predictions, targets, lengths_tensor)\n",
        "\n",
        "            scaler.scale(loss).backward()\n",
        "            scaler.unscale_(optimizer)\n",
        "            torch.nn.utils.clip_grad_norm_(encoder.parameters(), grad_clip)\n",
        "            torch.nn.utils.clip_grad_norm_(decoder.parameters(), grad_clip)\n",
        "            scaler.step(optimizer)\n",
        "            scaler.update()\n",
        "\n",
        "            total_loss += loss.item()\n",
        "\n",
        "            # Print progress as percentage\n",
        "            if i % print_interval == 0 or i == total_batches - 1:\n",
        "                progress = (i + 1) / total_batches * 100\n",
        "                print(f\"Progress: {progress:.1f}% ({i + 1}/{total_batches} batches), Loss: {loss.item():.4f}, Time: {time.time() - start_time:.2f}s\", flush=True)\n",
        "                logger.info(f\"Progress: {progress:.1f}% ({i + 1}/{total_batches} batches), Loss: {loss.item():.4f}\")\n",
        "        except RuntimeError as e:\n",
        "            print(f\"RuntimeError in batch {i}: {str(e)}\", flush=True)\n",
        "            logger.error(f\"RuntimeError in batch {i}: {str(e)}\")\n",
        "            torch.cuda.empty_cache()\n",
        "            continue\n",
        "        except Exception as e:\n",
        "            print(f\"Unexpected error in batch {i}: {str(e)}\", flush=True)\n",
        "            logger.error(f\"Unexpected error in batch {i}: {str(e)}\")\n",
        "            continue\n",
        "\n",
        "    if i == 0:\n",
        "        print(\"No batches processed successfully\", flush=True)\n",
        "        logger.warning(\"No batches processed successfully\")\n",
        "        return float('inf')\n",
        "\n",
        "    avg_loss = total_loss / (i + 1)\n",
        "    print(f\"Epoch completed. Train Loss: {avg_loss:.4f}, Total Time: {time.time() - start_time:.2f}s\", flush=True)\n",
        "    logger.info(f\"Epoch completed. Train Loss: {avg_loss:.4f}\")\n",
        "    return avg_loss"
      ]
    },
    {
      "cell_type": "code",
      "execution_count": null,
      "metadata": {
        "id": "5RxBGmGKEgCd"
      },
      "outputs": [],
      "source": [
        "def validate(encoder, decoder, dataloader, criterion, device):\n",
        "    encoder.eval()\n",
        "    decoder.eval()\n",
        "    total_loss = 0\n",
        "    with torch.no_grad():\n",
        "        for images, captions, lengths in dataloader:\n",
        "            images = images.to(device)\n",
        "            captions = captions.to(device)\n",
        "            lengths_tensor = lengths.clone().detach().to(device)\n",
        "            encoder_out = encoder(images)\n",
        "            predictions, _, decode_lengths, _, _ = decoder(encoder_out, captions, lengths_tensor)\n",
        "            targets = captions[:, 1:]\n",
        "            predictions = predictions[:, :max(decode_lengths), :]\n",
        "            loss = criterion(predictions, targets, lengths_tensor)\n",
        "            total_loss += loss.item()\n",
        "    return total_loss / len(dataloader)"
      ]
    },
    {
      "cell_type": "code",
      "execution_count": null,
      "metadata": {
        "colab": {
          "base_uri": "https://localhost:8080/"
        },
        "id": "UazSVzmmEgCe",
        "outputId": "97233d6a-b5b6-4869-9f1e-067dd6c1033c"
      },
      "outputs": [
        {
          "name": "stdout",
          "output_type": "stream",
          "text": [
            "Drive already mounted at /content/drive; to attempt to forcibly remount, call drive.mount(\"/content/drive\", force_remount=True).\n"
          ]
        }
      ],
      "source": [
        "import os\n",
        "import glob\n",
        "import torch\n",
        "from google.colab import drive\n",
        "\n",
        "# Mount Google Drive\n",
        "drive.mount('/content/drive')\n",
        "\n",
        "# Define the checkpoint directory in Google Drive\n",
        "CHECKPOINT_DIR = '/content/drive/My Drive/fyp_2/checkpoints'\n",
        "\n",
        "def save_checkpoint(encoder, decoder, optimizer, epoch, train_loss, val_loss, word_map,\n",
        "                   checkpoint_dir=CHECKPOINT_DIR, best_val_loss=float('inf'), is_best=False):\n",
        "    \"\"\"Save model checkpoint\"\"\"\n",
        "    # Create checkpoint directory if it doesn't exist\n",
        "    os.makedirs(checkpoint_dir, exist_ok=True)\n",
        "\n",
        "    # Save regular checkpoint\n",
        "    checkpoint_path = os.path.join(checkpoint_dir, f'checkpoint_epoch_{epoch + 1}.pth')\n",
        "\n",
        "    checkpoint = {\n",
        "        'epoch': epoch + 1,  # Save as next epoch to resume from\n",
        "        'encoder_state_dict': encoder.state_dict(),\n",
        "        'decoder_state_dict': decoder.state_dict(),\n",
        "        'optimizer_state_dict': optimizer.state_dict(),\n",
        "        'train_loss': train_loss,\n",
        "        'val_loss': val_loss,\n",
        "        'word_map': word_map,\n",
        "        'best_val_loss': best_val_loss\n",
        "    }\n",
        "\n",
        "    try:\n",
        "        torch.save(checkpoint, checkpoint_path)\n",
        "        print(f\"Checkpoint saved: {checkpoint_path}\")\n",
        "\n",
        "        # Save best model separately if this is the best one\n",
        "        if is_best:\n",
        "            best_model_path = os.path.join(checkpoint_dir, 'best_model.pth')\n",
        "            torch.save(checkpoint, best_model_path)\n",
        "            print(f\"New best model saved with validation loss: {val_loss:.4f}\")\n",
        "\n",
        "        # Keep only the last 3 checkpoints to save disk space\n",
        "        checkpoint_files = sorted(glob.glob(os.path.join(checkpoint_dir, 'checkpoint_epoch_*.pth')))\n",
        "        if len(checkpoint_files) > 3:\n",
        "            for old_checkpoint in checkpoint_files[:-3]:\n",
        "                os.remove(old_checkpoint)\n",
        "\n",
        "    except Exception as e:\n",
        "        print(f\"Error saving checkpoint: {e}\")\n",
        "        # Save to a temporary local directory as a fallback\n",
        "        fallback_dir = '/content/checkpoints'\n",
        "        os.makedirs(fallback_dir, exist_ok=True)\n",
        "        fallback_path = os.path.join(fallback_dir, f'checkpoint_epoch_{epoch + 1}.pth')\n",
        "        torch.save(checkpoint, fallback_path)\n",
        "        print(f\"Checkpoint saved to fallback location: {fallback_path}\")\n",
        "\n",
        "def resume_from_checkpoint(checkpoint_path, encoder, decoder, optimizer, device):\n",
        "    \"\"\"Load checkpoint and resume training\"\"\"\n",
        "    print(f\"Loading checkpoint from {checkpoint_path}\")\n",
        "\n",
        "    # Load checkpoint on CPU to avoid GPU memory issues\n",
        "    checkpoint = torch.load(checkpoint_path, map_location='cpu')\n",
        "\n",
        "    # Load model states\n",
        "    encoder.load_state_dict(checkpoint['encoder_state_dict'])\n",
        "    decoder.load_state_dict(checkpoint['decoder_state_dict'])\n",
        "\n",
        "    # Move models to device after loading\n",
        "    encoder = encoder.to(device)\n",
        "    decoder = decoder.to(device)\n",
        "\n",
        "    # Load optimizer state\n",
        "    optimizer.load_state_dict(checkpoint['optimizer_state_dict'])\n",
        "\n",
        "    # Move optimizer state to device\n",
        "    for state in optimizer.state.values():\n",
        "        for k, v in state.items():\n",
        "            if isinstance(v, torch.Tensor):\n",
        "                state[k] = v.to(device)\n",
        "\n",
        "    # Return the starting epoch and best validation loss\n",
        "    start_epoch = checkpoint['epoch']  # Continue from next epoch\n",
        "    best_val_loss = checkpoint.get('best_val_loss', float('inf'))\n",
        "\n",
        "    print(f\"Resuming from epoch {start_epoch} with best validation loss: {best_val_loss:.4f}\")\n",
        "    return encoder, decoder, optimizer, start_epoch, best_val_loss"
      ]
    },
    {
      "cell_type": "code",
      "execution_count": null,
      "metadata": {
        "colab": {
          "base_uri": "https://localhost:8080/"
        },
        "id": "eYX52nNFEgCe",
        "outputId": "91cd67cf-f1a8-4b06-e9ae-b4d48100d2d3"
      },
      "outputs": [
        {
          "name": "stdout",
          "output_type": "stream",
          "text": [
            "Initial loss: 7.8122\n"
          ]
        }
      ],
      "source": [
        "# Initialize components\n",
        "criterion = MaskedCrossEntropyLoss().to(device)\n",
        "num_epochs = 1  # For initial test\n",
        "\n",
        "# Quick test with 1 batch\n",
        "test_images, test_captions, test_lengths = next(iter(dataloader))\n",
        "test_images = test_images.to(device)\n",
        "test_captions = test_captions.to(device)\n",
        "test_lengths = test_lengths.clone().detach().to(device)\n",
        "\n",
        "# Forward test\n",
        "encoder_out = encoder(test_images)\n",
        "predictions, _, decode_lengths, _, _ = decoder(encoder_out, test_captions, test_lengths)\n",
        "targets = test_captions[:, 1:]\n",
        "\n",
        "# Ensure predictions and targets are aligned with decode_lengths\n",
        "predictions = predictions[:, :max(decode_lengths), :]\n",
        "\n",
        "# Compute loss\n",
        "loss = criterion(predictions, targets, test_lengths)\n",
        "\n",
        "print(f\"Initial loss: {loss.item():.4f}\")  # Should be ~log(10307) ≈ 9.2 for vocab_size=10307\n",
        "optimizer.step()  # Verify backprop works"
      ]
    },
    {
      "cell_type": "code",
      "execution_count": null,
      "metadata": {
        "id": "g6Ak4_LwEgCp"
      },
      "outputs": [],
      "source": [
        "from pycocoevalcap.bleu.bleu import Bleu\n",
        "from pycocoevalcap.rouge.rouge import Rouge\n",
        "from pycocoevalcap.meteor.meteor import Meteor\n",
        "from pycocoevalcap.cider.cider import Cider\n",
        "\n",
        "def evaluate_model(encoder, decoder, val_dataloader, word_map, device):\n",
        "    encoder.eval()\n",
        "    decoder.eval()\n",
        "    hypotheses = {}\n",
        "    references = defaultdict(list)\n",
        "    image_ids = []\n",
        "\n",
        "    with torch.no_grad():\n",
        "        for images, captions, lengths in val_dataloader:\n",
        "            images = images.to(device)\n",
        "            encoder_out = encoder(images)\n",
        "\n",
        "            for i in range(images.size(0)):\n",
        "                img_enc = encoder_out[i].unsqueeze(0)\n",
        "                # Handle Subset case\n",
        "                dataset = val_dataloader.dataset\n",
        "                if isinstance(dataset, torch.utils.data.Subset):\n",
        "                    subset_idx = dataset.indices[i]\n",
        "                    img_id = dataset.dataset.image_ids[subset_idx]\n",
        "                else:\n",
        "                    img_id = dataset.image_ids[i]\n",
        "                generated_caption = generate_caption(decoder, img_enc)\n",
        "                hypotheses[img_id] = [generated_caption]\n",
        "                image_ids.append(img_id)\n",
        "\n",
        "                # Collect all reference captions\n",
        "                for cap in encoded_val_captions[int(img_id)]:\n",
        "                    ref_tokens = [idx2word[idx] for idx in cap if idx not in {word_map['<pad>'], word_map['<start>'], word_map['<end>'], word_map['<unk>']}]\n",
        "                    references[img_id].append(' '.join(ref_tokens))\n",
        "\n",
        "    # Evaluate using pycocoevalcap\n",
        "    scorers = [\n",
        "        (Bleu(4), [\"Bleu_1\", \"Bleu_2\", \"Bleu_3\", \"Bleu_4\"]),\n",
        "        (Rouge(), \"ROUGE_L\"),\n",
        "        (Meteor(), \"METEOR\"),\n",
        "        (Cider(), \"CIDEr\")\n",
        "    ]\n",
        "    results = {}\n",
        "    for scorer, method in scorers:\n",
        "        score, _ = scorer.compute_score(references, hypotheses)\n",
        "        if isinstance(method, list):\n",
        "            for m, s in zip(method, score):\n",
        "                results[m] = s\n",
        "        else:\n",
        "            results[method] = score\n",
        "\n",
        "    return results"
      ]
    },
    {
      "cell_type": "code",
      "execution_count": null,
      "metadata": {
        "colab": {
          "background_save": true,
          "base_uri": "https://localhost:8080/"
        },
        "id": "NerKcK7SEgCe",
        "outputId": "53bea2d4-5d51-4350-e003-47a8a01c6b6e"
      },
      "outputs": [
        {
          "name": "stdout",
          "output_type": "stream",
          "text": [
            "Loading checkpoint from /content/drive/My Drive/fyp_2/checkpoints/checkpoint_epoch_5.pth\n",
            "Resuming from epoch 5 with best validation loss: 4.7539\n",
            "Progress: 0.0% (1/2500 batches), Loss: 4.6999, Time: 0.44s\n",
            "Progress: 1.0% (26/2500 batches), Loss: 5.0478, Time: 4.80s\n",
            "Progress: 2.0% (51/2500 batches), Loss: 5.0894, Time: 8.94s\n",
            "Progress: 3.0% (76/2500 batches), Loss: 4.9581, Time: 12.36s\n",
            "Progress: 4.0% (101/2500 batches), Loss: 5.2562, Time: 15.82s\n",
            "Progress: 5.0% (126/2500 batches), Loss: 3.9516, Time: 20.10s\n",
            "Progress: 6.0% (151/2500 batches), Loss: 5.1219, Time: 23.66s\n",
            "Progress: 7.0% (176/2500 batches), Loss: 4.4290, Time: 27.05s\n",
            "Progress: 8.0% (201/2500 batches), Loss: 4.5410, Time: 30.53s\n",
            "Progress: 9.0% (226/2500 batches), Loss: 5.1714, Time: 35.01s\n",
            "Progress: 10.0% (251/2500 batches), Loss: 5.0161, Time: 38.37s\n",
            "Progress: 11.0% (276/2500 batches), Loss: 4.9023, Time: 41.79s\n",
            "Progress: 12.0% (301/2500 batches), Loss: 4.1907, Time: 45.71s\n",
            "Progress: 13.0% (326/2500 batches), Loss: 4.7523, Time: 49.56s\n",
            "Progress: 14.0% (351/2500 batches), Loss: 5.3475, Time: 53.00s\n",
            "Progress: 15.0% (376/2500 batches), Loss: 4.9713, Time: 56.41s\n",
            "Progress: 16.0% (401/2500 batches), Loss: 5.5722, Time: 60.69s\n",
            "Progress: 17.0% (426/2500 batches), Loss: 5.0899, Time: 64.02s\n",
            "Progress: 18.0% (451/2500 batches), Loss: 4.4790, Time: 67.40s\n",
            "Progress: 19.0% (476/2500 batches), Loss: 4.9590, Time: 70.95s\n",
            "Progress: 20.0% (501/2500 batches), Loss: 5.2506, Time: 75.14s\n",
            "Progress: 21.0% (526/2500 batches), Loss: 4.9416, Time: 78.46s\n",
            "Progress: 22.0% (551/2500 batches), Loss: 4.6233, Time: 81.81s\n",
            "Progress: 23.0% (576/2500 batches), Loss: 5.4671, Time: 85.71s\n",
            "Progress: 24.0% (601/2500 batches), Loss: 5.1239, Time: 89.48s\n",
            "Progress: 25.0% (626/2500 batches), Loss: 4.6227, Time: 92.88s\n",
            "Progress: 26.0% (651/2500 batches), Loss: 5.3066, Time: 96.29s\n",
            "Progress: 27.0% (676/2500 batches), Loss: 4.8593, Time: 100.59s\n",
            "Progress: 28.0% (701/2500 batches), Loss: 4.8865, Time: 103.99s\n",
            "Progress: 29.0% (726/2500 batches), Loss: 4.7567, Time: 107.39s\n",
            "Progress: 30.0% (751/2500 batches), Loss: 4.6598, Time: 110.97s\n",
            "Progress: 31.0% (776/2500 batches), Loss: 5.1092, Time: 115.02s\n",
            "Progress: 32.0% (801/2500 batches), Loss: 4.7345, Time: 118.40s\n",
            "Progress: 33.0% (826/2500 batches), Loss: 4.8880, Time: 121.74s\n",
            "Progress: 34.0% (851/2500 batches), Loss: 5.7619, Time: 126.10s\n",
            "Progress: 35.0% (876/2500 batches), Loss: 4.8112, Time: 129.47s\n",
            "Progress: 36.0% (901/2500 batches), Loss: 4.5731, Time: 132.80s\n",
            "Progress: 37.0% (926/2500 batches), Loss: 4.8140, Time: 136.31s\n",
            "Progress: 38.0% (951/2500 batches), Loss: 4.4652, Time: 140.60s\n",
            "Progress: 39.0% (976/2500 batches), Loss: 4.7917, Time: 143.98s\n",
            "Progress: 40.0% (1001/2500 batches), Loss: 4.8960, Time: 147.32s\n",
            "Progress: 41.0% (1026/2500 batches), Loss: 5.2027, Time: 151.34s\n",
            "Progress: 42.0% (1051/2500 batches), Loss: 5.0246, Time: 154.95s\n",
            "Progress: 43.0% (1076/2500 batches), Loss: 4.3284, Time: 158.35s\n",
            "Progress: 44.0% (1101/2500 batches), Loss: 5.3262, Time: 161.65s\n",
            "Progress: 45.0% (1126/2500 batches), Loss: 5.3647, Time: 166.04s\n",
            "Progress: 46.0% (1151/2500 batches), Loss: 4.4773, Time: 169.45s\n",
            "Progress: 47.0% (1176/2500 batches), Loss: 5.2698, Time: 172.88s\n",
            "Progress: 48.0% (1201/2500 batches), Loss: 4.5206, Time: 176.60s\n",
            "Progress: 49.0% (1226/2500 batches), Loss: 4.5561, Time: 180.51s\n",
            "Progress: 50.0% (1251/2500 batches), Loss: 4.3336, Time: 183.89s\n",
            "Progress: 51.0% (1276/2500 batches), Loss: 4.7330, Time: 187.27s\n",
            "Progress: 52.0% (1301/2500 batches), Loss: 4.7721, Time: 191.58s\n",
            "Progress: 53.0% (1326/2500 batches), Loss: 4.6788, Time: 194.98s\n",
            "Progress: 54.0% (1351/2500 batches), Loss: 4.7110, Time: 198.31s\n",
            "Progress: 55.0% (1376/2500 batches), Loss: 5.0373, Time: 201.72s\n",
            "Progress: 56.0% (1401/2500 batches), Loss: 4.9286, Time: 206.03s\n",
            "Progress: 57.0% (1426/2500 batches), Loss: 4.9026, Time: 209.37s\n",
            "Progress: 58.0% (1451/2500 batches), Loss: 4.9544, Time: 212.91s\n",
            "Progress: 59.0% (1476/2500 batches), Loss: 4.3600, Time: 216.93s\n",
            "Progress: 60.0% (1501/2500 batches), Loss: 3.7153, Time: 220.58s\n",
            "Progress: 61.0% (1526/2500 batches), Loss: 4.7464, Time: 224.01s\n",
            "Progress: 62.0% (1551/2500 batches), Loss: 5.4945, Time: 227.35s\n",
            "Progress: 63.0% (1576/2500 batches), Loss: 4.2542, Time: 231.71s\n",
            "Progress: 64.0% (1601/2500 batches), Loss: 4.5383, Time: 235.11s\n",
            "Progress: 65.0% (1626/2500 batches), Loss: 5.0837, Time: 238.41s\n",
            "Progress: 66.0% (1651/2500 batches), Loss: 5.2487, Time: 242.32s\n",
            "Progress: 67.0% (1676/2500 batches), Loss: 4.7860, Time: 246.17s\n",
            "Progress: 68.0% (1701/2500 batches), Loss: 5.0720, Time: 249.46s\n",
            "Progress: 69.0% (1726/2500 batches), Loss: 4.2959, Time: 252.87s\n",
            "Progress: 70.0% (1751/2500 batches), Loss: 5.0343, Time: 257.28s\n",
            "Progress: 71.0% (1776/2500 batches), Loss: 5.0946, Time: 260.65s\n",
            "Progress: 72.0% (1801/2500 batches), Loss: 5.3052, Time: 264.07s\n",
            "Progress: 73.0% (1826/2500 batches), Loss: 4.5812, Time: 267.70s\n",
            "Progress: 74.0% (1851/2500 batches), Loss: 4.9058, Time: 271.86s\n",
            "Progress: 75.0% (1876/2500 batches), Loss: 4.5932, Time: 275.29s\n",
            "Progress: 76.0% (1901/2500 batches), Loss: 5.0692, Time: 278.67s\n",
            "Progress: 77.0% (1926/2500 batches), Loss: 5.0699, Time: 282.93s\n",
            "Progress: 78.0% (1951/2500 batches), Loss: 5.1643, Time: 286.36s\n",
            "Progress: 79.0% (1976/2500 batches), Loss: 5.4110, Time: 289.79s\n",
            "Progress: 80.0% (2001/2500 batches), Loss: 4.9267, Time: 293.14s\n",
            "Progress: 81.0% (2026/2500 batches), Loss: 5.1239, Time: 297.36s\n",
            "Progress: 82.0% (2051/2500 batches), Loss: 4.6069, Time: 300.72s\n",
            "Progress: 83.0% (2076/2500 batches), Loss: 4.4747, Time: 304.07s\n",
            "Progress: 84.0% (2101/2500 batches), Loss: 5.3977, Time: 307.94s\n",
            "Progress: 85.0% (2126/2500 batches), Loss: 5.0760, Time: 311.74s\n",
            "Progress: 86.0% (2151/2500 batches), Loss: 4.8670, Time: 315.05s\n",
            "Progress: 87.0% (2176/2500 batches), Loss: 4.9689, Time: 318.46s\n",
            "Progress: 88.0% (2201/2500 batches), Loss: 5.1071, Time: 322.74s\n",
            "Progress: 89.0% (2226/2500 batches), Loss: 4.6550, Time: 326.04s\n",
            "Progress: 90.0% (2251/2500 batches), Loss: 4.2782, Time: 329.38s\n",
            "Progress: 91.0% (2276/2500 batches), Loss: 4.5430, Time: 332.91s\n",
            "Progress: 92.0% (2301/2500 batches), Loss: 4.7792, Time: 337.06s\n",
            "Progress: 93.0% (2326/2500 batches), Loss: 4.5237, Time: 340.38s\n",
            "Progress: 94.0% (2351/2500 batches), Loss: 4.7433, Time: 343.80s\n",
            "Progress: 95.0% (2376/2500 batches), Loss: 5.0228, Time: 347.88s\n",
            "Progress: 96.0% (2401/2500 batches), Loss: 5.2715, Time: 351.47s\n",
            "Progress: 97.0% (2426/2500 batches), Loss: 4.9354, Time: 354.88s\n",
            "Progress: 98.0% (2451/2500 batches), Loss: 4.7197, Time: 358.23s\n",
            "Progress: 99.0% (2476/2500 batches), Loss: 5.1200, Time: 362.55s\n",
            "Progress: 100.0% (2500/2500 batches), Loss: 5.0077, Time: 365.75s\n",
            "Epoch completed. Train Loss: 4.8223, Total Time: 365.86s\n"
          ]
        },
        {
          "ename": "TypeError",
          "evalue": "save_checkpoint() takes from 1 to 2 positional arguments but 10 were given",
          "output_type": "error",
          "traceback": [
            "\u001b[0;31m---------------------------------------------------------------------------\u001b[0m",
            "\u001b[0;31mTypeError\u001b[0m                                 Traceback (most recent call last)",
            "\u001b[0;32m<ipython-input-140-3a5714b7732e>\u001b[0m in \u001b[0;36m<cell line: 0>\u001b[0;34m()\u001b[0m\n\u001b[1;32m     57\u001b[0m     \u001b[0;32melse\u001b[0m\u001b[0;34m:\u001b[0m\u001b[0;34m\u001b[0m\u001b[0;34m\u001b[0m\u001b[0m\n\u001b[1;32m     58\u001b[0m         \u001b[0mepochs_no_improve\u001b[0m \u001b[0;34m+=\u001b[0m \u001b[0;36m1\u001b[0m\u001b[0;34m\u001b[0m\u001b[0;34m\u001b[0m\u001b[0m\n\u001b[0;32m---> 59\u001b[0;31m     \u001b[0msave_checkpoint\u001b[0m\u001b[0;34m(\u001b[0m\u001b[0mencoder\u001b[0m\u001b[0;34m,\u001b[0m \u001b[0mdecoder\u001b[0m\u001b[0;34m,\u001b[0m \u001b[0moptimizer\u001b[0m\u001b[0;34m,\u001b[0m \u001b[0mepoch\u001b[0m\u001b[0;34m,\u001b[0m \u001b[0mtrain_loss\u001b[0m\u001b[0;34m,\u001b[0m \u001b[0mval_loss\u001b[0m\u001b[0;34m,\u001b[0m \u001b[0mword_map\u001b[0m\u001b[0;34m,\u001b[0m \u001b[0mCHECKPOINT_DIR\u001b[0m\u001b[0;34m,\u001b[0m \u001b[0mbest_val_loss\u001b[0m\u001b[0;34m,\u001b[0m \u001b[0mis_best\u001b[0m\u001b[0;34m)\u001b[0m\u001b[0;34m\u001b[0m\u001b[0;34m\u001b[0m\u001b[0m\n\u001b[0m\u001b[1;32m     60\u001b[0m     \u001b[0;32mif\u001b[0m \u001b[0mepochs_no_improve\u001b[0m \u001b[0;34m>=\u001b[0m \u001b[0mpatience\u001b[0m\u001b[0;34m:\u001b[0m\u001b[0;34m\u001b[0m\u001b[0;34m\u001b[0m\u001b[0m\n\u001b[1;32m     61\u001b[0m         \u001b[0mlogger\u001b[0m\u001b[0;34m.\u001b[0m\u001b[0minfo\u001b[0m\u001b[0;34m(\u001b[0m\u001b[0;34mf\"Early stopping triggered after {epoch + 1} epochs\"\u001b[0m\u001b[0;34m)\u001b[0m\u001b[0;34m\u001b[0m\u001b[0;34m\u001b[0m\u001b[0m\n",
            "\u001b[0;31mTypeError\u001b[0m: save_checkpoint() takes from 1 to 2 positional arguments but 10 were given"
          ]
        }
      ],
      "source": [
        "import os\n",
        "import glob\n",
        "import torch\n",
        "import logging\n",
        "from google.colab import drive\n",
        "\n",
        "# Define checkpoint directory in Google Drive\n",
        "CHECKPOINT_DIR = '/content/drive/My Drive/fyp_2/checkpoints'\n",
        "os.makedirs(CHECKPOINT_DIR, exist_ok=True)\n",
        "\n",
        "# Set up logging\n",
        "logging.basicConfig(level=logging.INFO, format='%(asctime)s - %(levelname)s - %(message)s')\n",
        "logger = logging.getLogger(__name__)\n",
        "\n",
        "# Find latest checkpoint if it exists\n",
        "latest_checkpoint = None\n",
        "checkpoint_files = glob.glob(os.path.join(CHECKPOINT_DIR, 'checkpoint_epoch_*.pth'))\n",
        "if checkpoint_files:\n",
        "    latest_checkpoint = max(checkpoint_files, key=os.path.getctime)\n",
        "\n",
        "# Resume from checkpoint if available\n",
        "start_epoch = 0\n",
        "best_val_loss = float('inf')\n",
        "\n",
        "if latest_checkpoint:\n",
        "    encoder, decoder, optimizer, start_epoch, best_val_loss = resume_from_checkpoint(\n",
        "        latest_checkpoint, encoder, decoder, optimizer, device\n",
        "    )\n",
        "\n",
        "# Training loop\n",
        "num_epochs = 7\n",
        "patience = 3\n",
        "epochs_no_improve = 0\n",
        "\n",
        "# Define validation subset for periodic evaluation\n",
        "val_subset = torch.utils.data.Subset(val_dataset, range(100))\n",
        "val_subset_dataloader = DataLoader(val_subset, batch_size=4, shuffle=False, num_workers=2, pin_memory=True, collate_fn=caption_collate_fn)\n",
        "\n",
        "for epoch in range(start_epoch, num_epochs):\n",
        "    logger.info(f\"--- Epoch {epoch + 1}/{num_epochs} ---\")\n",
        "    train_loss = train_epoch(encoder, decoder, dataloader, criterion, optimizer, device)\n",
        "    logger.info(f\"Train Loss: {train_loss:.4f}\")\n",
        "    val_loss = validate(encoder, decoder, val_dataloader, criterion, device)\n",
        "    logger.info(f\"Validation Loss: {val_loss:.4f}\")\n",
        "\n",
        "    # Evaluate metrics every 2 epochs\n",
        "    if epoch % 2 == 0:\n",
        "        metrics = evaluate_model(encoder, decoder, val_subset_dataloader, word_map, device)\n",
        "        logger.info(\"Evaluation Metrics:\")\n",
        "        for metric, score in metrics.items():\n",
        "            logger.info(f\"{metric}: {score:.4f}\")\n",
        "\n",
        "    is_best = val_loss < best_val_loss\n",
        "    if is_best:\n",
        "        best_val_loss = val_loss\n",
        "        epochs_no_improve = 0\n",
        "    else:\n",
        "        epochs_no_improve += 1\n",
        "    save_checkpoint(encoder, decoder, optimizer, epoch, train_loss, val_loss, word_map, CHECKPOINT_DIR, best_val_loss, is_best)\n",
        "    if epochs_no_improve >= patience:\n",
        "        logger.info(f\"Early stopping triggered after {epoch + 1} epochs\")\n",
        "        break\n",
        "\n",
        "# Mark training as complete\n",
        "with open(os.path.join(CHECKPOINT_DIR, 'TRAINING_COMPLETE'), 'w') as f:\n",
        "    f.write('Training completed successfully')\n",
        "logger.info(\"Training completed successfully\")\n",
        "\n",
        "# Test evaluation on a small validation subset\n",
        "logger.info(\"Testing evaluation on 100-image validation subset\")\n",
        "val_subset = torch.utils.data.Subset(val_dataset, range(100))\n",
        "val_subset_dataloader = DataLoader(val_subset, batch_size=4, shuffle=False, num_workers=2, pin_memory=True, collate_fn=caption_collate_fn)\n",
        "metrics = evaluate_model(encoder, decoder, val_subset_dataloader, word_map, device)\n",
        "logger.info(\"Subset Evaluation Metrics:\")\n",
        "for metric, score in metrics.items():\n",
        "    logger.info(f\"{metric}: {score:.4f}\")"
      ]
    },
    {
      "cell_type": "code",
      "execution_count": null,
      "metadata": {
        "id": "VSfj2Kw1EgCe"
      },
      "outputs": [],
      "source": [
        "checkpoint_path = '/content/drive/My Drive/fyp_2/checkpoints/checkpoint_epoch_1.pth'\n",
        "\n",
        "def save_checkpoint(state, filename=checkpoint_path):\n",
        "    torch.save(state, filename)"
      ]
    },
    {
      "cell_type": "code",
      "execution_count": null,
      "metadata": {
        "id": "fPRH7sEXEgCe"
      },
      "outputs": [],
      "source": [
        "def load_checkpoint(checkpoint_path, encoder, decoder, optimizer):\n",
        "    checkpoint = torch.load(checkpoint_path, map_location=device)\n",
        "    encoder.load_state_dict(checkpoint['encoder_state_dict'])\n",
        "    decoder.load_state_dict(checkpoint['decoder_state_dict'])\n",
        "    optimizer.load_state_dict(checkpoint['optimizer_state_dict'])\n",
        "    return checkpoint['epoch']"
      ]
    },
    {
      "cell_type": "code",
      "execution_count": null,
      "metadata": {
        "id": "vByEm0lxEgCf",
        "colab": {
          "base_uri": "https://localhost:8080/"
        },
        "outputId": "04da77f1-eb3b-42a5-b03e-a5885a6177cd"
      },
      "outputs": [
        {
          "output_type": "stream",
          "name": "stdout",
          "text": [
            "Collecting xdg\n",
            "  Downloading xdg-6.0.0-py3-none-any.whl.metadata (1.3 kB)\n",
            "Downloading xdg-6.0.0-py3-none-any.whl (3.9 kB)\n",
            "Installing collected packages: xdg\n",
            "Successfully installed xdg-6.0.0\n"
          ]
        }
      ],
      "source": [
        "!pip install xdg"
      ]
    },
    {
      "cell_type": "code",
      "execution_count": null,
      "metadata": {
        "id": "ICiTlIi3EgCo"
      },
      "outputs": [],
      "source": [
        "!pip list | grep -E 'torch|torchvision|numpy|scipy|scikit-learn|pandas|nltk|pycocoevalcap|matplotlib'"
      ]
    },
    {
      "cell_type": "code",
      "execution_count": null,
      "metadata": {
        "colab": {
          "base_uri": "https://localhost:8080/"
        },
        "id": "SkwXHnQyra81",
        "outputId": "ce86fe64-31d3-470a-a465-a566db61ade0"
      },
      "outputs": [
        {
          "name": "stdout",
          "output_type": "stream",
          "text": [
            "Installing scikit-learn...\n",
            "Requirement already satisfied: scikit-learn in /usr/local/lib/python3.11/dist-packages (1.6.1)\n",
            "Requirement already satisfied: numpy>=1.19.5 in /usr/local/lib/python3.11/dist-packages (from scikit-learn) (2.0.2)\n",
            "Requirement already satisfied: scipy>=1.6.0 in /usr/local/lib/python3.11/dist-packages (from scikit-learn) (1.14.1)\n",
            "Requirement already satisfied: joblib>=1.2.0 in /usr/local/lib/python3.11/dist-packages (from scikit-learn) (1.4.2)\n",
            "Requirement already satisfied: threadpoolctl>=3.1.0 in /usr/local/lib/python3.11/dist-packages (from scikit-learn) (3.6.0)\n"
          ]
        }
      ],
      "source": [
        "import sys\n",
        "required = ['torch', 'torchvision', 'numpy', 'scipy', 'scikit-learn', 'pandas', 'nltk', 'pycocoevalcap', 'matplotlib']\n",
        "for pkg in required:\n",
        "    try:\n",
        "        __import__(pkg)\n",
        "    except ImportError:\n",
        "        print(f\"Installing {pkg}...\")\n",
        "        !pip install {pkg}"
      ]
    },
    {
      "cell_type": "code",
      "execution_count": null,
      "metadata": {
        "colab": {
          "base_uri": "https://localhost:8080/"
        },
        "id": "cuOD8XjkEgCo",
        "outputId": "d8fc8781-d8e7-4f48-a03b-f3703c7e1572"
      },
      "outputs": [
        {
          "name": "stdout",
          "output_type": "stream",
          "text": [
            "Loading best model from /content/drive/My Drive/fyp_2/checkpoints/best_model.pth\n"
          ]
        },
        {
          "data": {
            "text/plain": [
              "DecoderWithAttention(\n",
              "  (attention): Attention(\n",
              "    (encoder_att): Linear(in_features=2048, out_features=512, bias=True)\n",
              "    (decoder_att): Linear(in_features=512, out_features=512, bias=True)\n",
              "    (full_att): Linear(in_features=512, out_features=1, bias=True)\n",
              "    (relu): ReLU()\n",
              "    (softmax): Softmax(dim=1)\n",
              "  )\n",
              "  (embedding): Embedding(3387, 300)\n",
              "  (dropout): Dropout(p=0.5, inplace=False)\n",
              "  (decode_step): LSTMCell(2348, 512)\n",
              "  (init_h): Linear(in_features=2048, out_features=512, bias=True)\n",
              "  (init_c): Linear(in_features=2048, out_features=512, bias=True)\n",
              "  (f_beta): Linear(in_features=512, out_features=2048, bias=True)\n",
              "  (sigmoid): Sigmoid()\n",
              "  (fc): Linear(in_features=512, out_features=3387, bias=True)\n",
              ")"
            ]
          },
          "execution_count": 133,
          "metadata": {},
          "output_type": "execute_result"
        }
      ],
      "source": [
        "# Load the best model for evaluation\n",
        "best_model_path = os.path.join(CHECKPOINT_DIR, 'best_model.pth')\n",
        "if os.path.exists(best_model_path):\n",
        "    print(f\"Loading best model from {best_model_path}\")\n",
        "    checkpoint = torch.load(best_model_path, map_location=device)\n",
        "else:\n",
        "    # Fall back to latest checkpoint if no best model exists\n",
        "    latest_checkpoint = max(glob.glob(os.path.join(checkpoint_dir, 'checkpoint_epoch_*.pth')),\n",
        "                           key=os.path.getctime)\n",
        "    print(f\"No best model found, loading latest checkpoint: {latest_checkpoint}\")\n",
        "    checkpoint = torch.load(latest_checkpoint, map_location=device)\n",
        "\n",
        "encoder.load_state_dict(checkpoint['encoder_state_dict'])\n",
        "decoder.load_state_dict(checkpoint['decoder_state_dict'])\n",
        "\n",
        "# Set models to evaluation mode\n",
        "encoder.eval()\n",
        "decoder.eval()"
      ]
    },
    {
      "cell_type": "code",
      "execution_count": null,
      "metadata": {
        "id": "cuSbevAcEgCp"
      },
      "outputs": [],
      "source": [
        "def generate_caption(decoder, encoder_out, max_len=20, beam_size=3):\n",
        "    decoder.eval()\n",
        "    device = encoder_out.device\n",
        "    encoder_out = encoder_out.view(1, -1, encoder_out.size(-1))\n",
        "    word_map_rev = {v: k for k, v in word_map.items()}\n",
        "\n",
        "    # Initialize beam\n",
        "    h, c = decoder.init_hidden_state(encoder_out)\n",
        "    start_token = torch.tensor([word_map['<start>']], device=device)\n",
        "    beams = [([start_token], (h, c), 0.0)]  # (sequence, state, score)\n",
        "    completed = []\n",
        "\n",
        "    for _ in range(max_len):\n",
        "        new_beams = []\n",
        "        for seq, (h, c), score in beams:\n",
        "            last_word = seq[-1]\n",
        "            if last_word.item() == word_map['<end>']:\n",
        "                completed.append((seq, score))\n",
        "                continue\n",
        "\n",
        "            embeddings = decoder.embedding(last_word).unsqueeze(0)\n",
        "            awe, _ = decoder.attention(encoder_out, h)\n",
        "            gate = decoder.sigmoid(decoder.f_beta(h))\n",
        "            awe = gate * awe\n",
        "            h, c = decoder.decode_step(torch.cat([embeddings.squeeze(1), awe], dim=1), (h, c))\n",
        "            preds = decoder.fc(h)\n",
        "            probs = torch.log_softmax(preds, dim=1).squeeze(0)\n",
        "\n",
        "            # Get top-k candidates\n",
        "            top_probs, top_words = probs.topk(beam_size)\n",
        "            for i in range(beam_size):\n",
        "                new_seq = seq + [top_words[i].unsqueeze(0)]\n",
        "                new_score = score + top_probs[i].item()\n",
        "                new_beams.append((new_seq, (h, c), new_score))\n",
        "\n",
        "        # Keep top beam_size beams\n",
        "        beams = sorted(new_beams, key=lambda x: x[2], reverse=True)[:beam_size]\n",
        "\n",
        "        if len(completed) >= beam_size:\n",
        "            break\n",
        "\n",
        "    # Select best completed caption or fall back to best beam\n",
        "    if completed:\n",
        "        best_seq, best_score = max(completed, key=lambda x: x[1])\n",
        "    else:\n",
        "        best_seq, _, best_score = max(beams, key=lambda x: x[2])\n",
        "\n",
        "    # Convert to words\n",
        "    caption = [word_map_rev.get(word.item(), '<unk>') for word in best_seq[1:] if word.item() != word_map['<end>']]\n",
        "    return ' '.join(caption)"
      ]
    },
    {
      "cell_type": "code",
      "execution_count": null,
      "metadata": {
        "id": "9_PTeG-jhH0_"
      },
      "outputs": [],
      "source": [
        "!pip install pycocoevalcap"
      ]
    },
    {
      "cell_type": "code",
      "execution_count": null,
      "metadata": {
        "colab": {
          "base_uri": "https://localhost:8080/"
        },
        "id": "LvC45BTzq58w",
        "outputId": "c7997037-68f7-49fa-d456-a42e497feff4"
      },
      "outputs": [
        {
          "name": "stdout",
          "output_type": "stream",
          "text": [
            "Vocabulary size: 3387\n",
            "Number of <unk> tokens in validation captions: 1273\n"
          ]
        }
      ],
      "source": [
        "print(f\"Vocabulary size: {len(word_map)}\")\n",
        "unk_count = sum(1 for cap in encoded_val_captions.values() for c in cap for w in c if w == word_map['<unk>'])\n",
        "print(f\"Number of <unk> tokens in validation captions: {unk_count}\")"
      ]
    },
    {
      "cell_type": "markdown",
      "metadata": {
        "id": "aZqVEqqdEgCu"
      },
      "source": [
        "## Visualizing Attention Maps"
      ]
    },
    {
      "cell_type": "code",
      "execution_count": null,
      "metadata": {
        "id": "ju7NrSkgEgCu"
      },
      "outputs": [],
      "source": [
        "from PIL import Image\n",
        "import torchvision.transforms as transforms\n",
        "import torch\n",
        "\n",
        "def generate_caption_with_attention(decoder, encoder_out, word_map, max_len=20):\n",
        "    decoder.eval()\n",
        "\n",
        "    h, c = decoder.init_hidden_state(encoder_out)\n",
        "    encoder_out = encoder_out.view(1, -1, encoder_out.size(-1))\n",
        "    word = torch.tensor([word_map['<start>']]).to(device)\n",
        "\n",
        "    rev_word_map = {v: k for k, v in word_map.items()}\n",
        "\n",
        "    caption = []\n",
        "    alphas = []\n",
        "\n",
        "    for _ in range(max_len):\n",
        "        embeddings = decoder.embedding(word).unsqueeze(0)  # (1, 1, embed_dim)\n",
        "        awe, alpha = decoder.attention(encoder_out, h)\n",
        "        gate = decoder.sigmoid(decoder.f_beta(h))\n",
        "        awe = gate * awe\n",
        "\n",
        "        h, c = decoder.decode_step(torch.cat([embeddings.squeeze(1), awe], dim=1), (h, c))\n",
        "        preds = decoder.fc(h)\n",
        "        word = preds.argmax(1)\n",
        "\n",
        "        predicted_word = word.item()\n",
        "        if predicted_word == word_map['<end>']:\n",
        "            break\n",
        "\n",
        "        caption.append(rev_word_map.get(predicted_word, '<unk>'))\n",
        "        alphas.append(alpha.cpu().detach().numpy())\n",
        "\n",
        "    return caption, alphas"
      ]
    },
    {
      "cell_type": "code",
      "execution_count": null,
      "metadata": {
        "id": "evBgS9Z8EgCu"
      },
      "outputs": [],
      "source": [
        "import matplotlib.pyplot as plt\n",
        "import numpy as np\n",
        "from PIL import Image\n",
        "from scipy.ndimage import gaussian_filter\n",
        "\n",
        "def visualize_attention(image_path, caption, alphas, smooth=True):\n",
        "    try:\n",
        "        image = Image.open(image_path).convert(\"RGB\")\n",
        "        image = image.resize([224, 224], Image.LANCZOS)\n",
        "    except FileNotFoundError:\n",
        "        logger.error(f\"Image file {image_path} not found\")\n",
        "        return\n",
        "\n",
        "    plt.figure(figsize=(15, 15))\n",
        "    for t in range(len(caption)):\n",
        "        plt.subplot(int(np.ceil(len(caption) / 5.)), 5, t + 1)  # Fix: Convert to int\n",
        "        plt.text(0, 1, '%s' % caption[t], color='black', backgroundcolor='white', fontsize=12)\n",
        "        plt.imshow(image)\n",
        "        alpha = alphas[t].reshape(14, 14)\n",
        "        if smooth:\n",
        "            alpha = gaussian_filter(alpha, sigma=1)\n",
        "        plt.imshow(alpha, alpha=0.6, extent=(0, 224, 224, 0), cmap='viridis')\n",
        "        plt.axis('off')\n",
        "    plt.tight_layout()\n",
        "    plt.show()"
      ]
    },
    {
      "cell_type": "code",
      "execution_count": null,
      "metadata": {
        "colab": {
          "base_uri": "https://localhost:8080/",
          "height": 774
        },
        "id": "tMTkmEYEEgCu",
        "outputId": "ceb826ee-56da-4fea-e572-557b17b02117"
      },
      "outputs": [
        {
          "data": {
            "image/png": "[encoded data removed]",
            "text/plain": [
              "<Figure size 1500x1500 with 9 Axes>"
            ]
          },
          "metadata": {},
          "output_type": "display_data"
        }
      ],
      "source": [
        "# Load image\n",
        "image_path = os.path.join(IMAGE_FOLDER2, f\"{int(selected_val_image_ids[0]):012}.jpg\")\n",
        "image = Image.open(image_path).convert(\"RGB\")\n",
        "\n",
        "# Transform image\n",
        "transform = transforms.Compose([\n",
        "    transforms.Resize((256, 256)),\n",
        "    transforms.ToTensor(),\n",
        "    transforms.Normalize(mean=[0.485, 0.456, 0.406],\n",
        "                         std=[0.229, 0.224, 0.225])\n",
        "])\n",
        "image_tensor = transform(image).unsqueeze(0).to(device)\n",
        "\n",
        "# Encode image\n",
        "encoder_out = encoder(image_tensor)\n",
        "caption, alphas = generate_caption_with_attention(decoder, encoder_out, word_map)\n",
        "\n",
        "# Visualize\n",
        "visualize_attention(image_path, caption, alphas)"
      ]
    },
    {
      "cell_type": "code",
      "execution_count": null,
      "metadata": {
        "id": "8T3Wn8EcEgCv"
      },
      "outputs": [],
      "source": []
    }
  ],
  "metadata": {
    "accelerator": "GPU",
    "colab": {
      "gpuType": "T4",
      "provenance": [],
      "include_colab_link": true
    },
    "kaggle": {
      "accelerator": "nvidiaTeslaT4",
      "dataSources": [
        {
          "datasetId": 857191,
          "sourceId": 1462296,
          "sourceType": "datasetVersion"
        },
        {
          "datasetId": 1011404,
          "sourceId": 1706129,
          "sourceType": "datasetVersion"
        },
        {
          "datasetId": 7202696,
          "sourceId": 11490486,
          "sourceType": "datasetVersion"
        },
        {
          "sourceId": 4235478,
          "sourceType": "kernelVersion"
        },
        {
          "sourceId": 163770428,
          "sourceType": "kernelVersion"
        },
        {
          "sourceId": 184692496,
          "sourceType": "kernelVersion"
        }
      ],
      "dockerImageVersionId": 30918,
      "isGpuEnabled": true,
      "isInternetEnabled": true,
      "language": "python",
      "sourceType": "notebook"
    },
    "kernelspec": {
      "display_name": "Python 3",
      "name": "python3"
    },
    "language_info": {
      "codemirror_mode": {
        "name": "ipython",
        "version": 3
      },
      "file_extension": ".py",
      "mimetype": "text/x-python",
      "name": "python",
      "nbconvert_exporter": "python",
      "pygments_lexer": "ipython3",
      "version": "3.10.12"
    },
    "widgets": {
      "application/vnd.jupyter.widget-state+json": {
        "104efb8a9055441a835562d782892550": {
          "model_module": "@jupyter-widgets/controls",
          "model_name": "VBoxModel",
          "model_module_version": "1.5.0",
          "state": {
            "_dom_classes": [],
            "_model_module": "@jupyter-widgets/controls",
            "_model_module_version": "1.5.0",
            "_model_name": "VBoxModel",
            "_view_count": null,
            "_view_module": "@jupyter-widgets/controls",
            "_view_module_version": "1.5.0",
            "_view_name": "VBoxView",
            "box_style": "",
            "children": [
              "IPY_MODEL_4e00e92dc8ac430e93e69502bb205256"
            ],
            "layout": "IPY_MODEL_fa493a5544e74aa4a4d75c81f3253d6c"
          }
        },
        "e4a5ed3a916e472e84a76f1056debb90": {
          "model_module": "@jupyter-widgets/controls",
          "model_name": "HTMLModel",
          "model_module_version": "1.5.0",
          "state": {
            "_dom_classes": [],
            "_model_module": "@jupyter-widgets/controls",
            "_model_module_version": "1.5.0",
            "_model_name": "HTMLModel",
            "_view_count": null,
            "_view_module": "@jupyter-widgets/controls",
            "_view_module_version": "1.5.0",
            "_view_name": "HTMLView",
            "description": "",
            "description_tooltip": null,
            "layout": "IPY_MODEL_a353b4f5b26c445f85c34e799c6038e5",
            "placeholder": "​",
            "style": "IPY_MODEL_757f6caa77f3428fbd9eb849127c5b49",
            "value": "<center> <img\nsrc=https://www.kaggle.com/static/images/site-logo.png\nalt='Kaggle'> <br> Create an API token from <a\nhref=\"https://www.kaggle.com/settings/account\" target=\"_blank\">your Kaggle\nsettings page</a> and paste it below along with your Kaggle username. <br> </center>"
          }
        },
        "54a00bb8c11b4e668d77175d7ab5a816": {
          "model_module": "@jupyter-widgets/controls",
          "model_name": "TextModel",
          "model_module_version": "1.5.0",
          "state": {
            "_dom_classes": [],
            "_model_module": "@jupyter-widgets/controls",
            "_model_module_version": "1.5.0",
            "_model_name": "TextModel",
            "_view_count": null,
            "_view_module": "@jupyter-widgets/controls",
            "_view_module_version": "1.5.0",
            "_view_name": "TextView",
            "continuous_update": true,
            "description": "Username:",
            "description_tooltip": null,
            "disabled": false,
            "layout": "IPY_MODEL_07f81240c7c741fab2befbba5b51b6c2",
            "placeholder": "​",
            "style": "IPY_MODEL_7a409ef7242d4cd18f4769e311ae2c69",
            "value": "ugyenntsheringg"
          }
        },
        "34370d3daf084104a1ceecf1fd299f63": {
          "model_module": "@jupyter-widgets/controls",
          "model_name": "PasswordModel",
          "model_module_version": "1.5.0",
          "state": {
            "_dom_classes": [],
            "_model_module": "@jupyter-widgets/controls",
            "_model_module_version": "1.5.0",
            "_model_name": "PasswordModel",
            "_view_count": null,
            "_view_module": "@jupyter-widgets/controls",
            "_view_module_version": "1.5.0",
            "_view_name": "PasswordView",
            "continuous_update": true,
            "description": "Token:",
            "description_tooltip": null,
            "disabled": false,
            "layout": "IPY_MODEL_4be5b8198b3346ee8df752adec2214c8",
            "placeholder": "​",
            "style": "IPY_MODEL_0f7518de96cf4575bc373f790a90a772",
            "value": ""
          }
        },
        "ee01310d29784f5991a28e836b676b8d": {
          "model_module": "@jupyter-widgets/controls",
          "model_name": "ButtonModel",
          "model_module_version": "1.5.0",
          "state": {
            "_dom_classes": [],
            "_model_module": "@jupyter-widgets/controls",
            "_model_module_version": "1.5.0",
            "_model_name": "ButtonModel",
            "_view_count": null,
            "_view_module": "@jupyter-widgets/controls",
            "_view_module_version": "1.5.0",
            "_view_name": "ButtonView",
            "button_style": "",
            "description": "Login",
            "disabled": false,
            "icon": "",
            "layout": "IPY_MODEL_a1f9bc9a2c8746daa4fda78690e9ec7c",
            "style": "IPY_MODEL_bc657c1707ce4078a3bb5345bc7496e5",
            "tooltip": ""
          }
        },
        "e4fa39d8e3de44f798eba34b83991d9c": {
          "model_module": "@jupyter-widgets/controls",
          "model_name": "HTMLModel",
          "model_module_version": "1.5.0",
          "state": {
            "_dom_classes": [],
            "_model_module": "@jupyter-widgets/controls",
            "_model_module_version": "1.5.0",
            "_model_name": "HTMLModel",
            "_view_count": null,
            "_view_module": "@jupyter-widgets/controls",
            "_view_module_version": "1.5.0",
            "_view_name": "HTMLView",
            "description": "",
            "description_tooltip": null,
            "layout": "IPY_MODEL_72c110ef636343518c6077a60bd7e64f",
            "placeholder": "​",
            "style": "IPY_MODEL_c33ed8d7811045eeb749d9dbb73f3377",
            "value": "\n<b>Thank You</b></center>"
          }
        },
        "fa493a5544e74aa4a4d75c81f3253d6c": {
          "model_module": "@jupyter-widgets/base",
          "model_name": "LayoutModel",
          "model_module_version": "1.2.0",
          "state": {
            "_model_module": "@jupyter-widgets/base",
            "_model_module_version": "1.2.0",
            "_model_name": "LayoutModel",
            "_view_count": null,
            "_view_module": "@jupyter-widgets/base",
            "_view_module_version": "1.2.0",
            "_view_name": "LayoutView",
            "align_content": null,
            "align_items": "center",
            "align_self": null,
            "border": null,
            "bottom": null,
            "display": "flex",
            "flex": null,
            "flex_flow": "column",
            "grid_area": null,
            "grid_auto_columns": null,
            "grid_auto_flow": null,
            "grid_auto_rows": null,
            "grid_column": null,
            "grid_gap": null,
            "grid_row": null,
            "grid_template_areas": null,
            "grid_template_columns": null,
            "grid_template_rows": null,
            "height": null,
            "justify_content": null,
            "justify_items": null,
            "left": null,
            "margin": null,
            "max_height": null,
            "max_width": null,
            "min_height": null,
            "min_width": null,
            "object_fit": null,
            "object_position": null,
            "order": null,
            "overflow": null,
            "overflow_x": null,
            "overflow_y": null,
            "padding": null,
            "right": null,
            "top": null,
            "visibility": null,
            "width": "50%"
          }
        },
        "a353b4f5b26c445f85c34e799c6038e5": {
          "model_module": "@jupyter-widgets/base",
          "model_name": "LayoutModel",
          "model_module_version": "1.2.0",
          "state": {
            "_model_module": "@jupyter-widgets/base",
            "_model_module_version": "1.2.0",
            "_model_name": "LayoutModel",
            "_view_count": null,
            "_view_module": "@jupyter-widgets/base",
            "_view_module_version": "1.2.0",
            "_view_name": "LayoutView",
            "align_content": null,
            "align_items": null,
            "align_self": null,
            "border": null,
            "bottom": null,
            "display": null,
            "flex": null,
            "flex_flow": null,
            "grid_area": null,
            "grid_auto_columns": null,
            "grid_auto_flow": null,
            "grid_auto_rows": null,
            "grid_column": null,
            "grid_gap": null,
            "grid_row": null,
            "grid_template_areas": null,
            "grid_template_columns": null,
            "grid_template_rows": null,
            "height": null,
            "justify_content": null,
            "justify_items": null,
            "left": null,
            "margin": null,
            "max_height": null,
            "max_width": null,
            "min_height": null,
            "min_width": null,
            "object_fit": null,
            "object_position": null,
            "order": null,
            "overflow": null,
            "overflow_x": null,
            "overflow_y": null,
            "padding": null,
            "right": null,
            "top": null,
            "visibility": null,
            "width": null
          }
        },
        "757f6caa77f3428fbd9eb849127c5b49": {
          "model_module": "@jupyter-widgets/controls",
          "model_name": "DescriptionStyleModel",
          "model_module_version": "1.5.0",
          "state": {
            "_model_module": "@jupyter-widgets/controls",
            "_model_module_version": "1.5.0",
            "_model_name": "DescriptionStyleModel",
            "_view_count": null,
            "_view_module": "@jupyter-widgets/base",
            "_view_module_version": "1.2.0",
            "_view_name": "StyleView",
            "description_width": ""
          }
        },
        "07f81240c7c741fab2befbba5b51b6c2": {
          "model_module": "@jupyter-widgets/base",
          "model_name": "LayoutModel",
          "model_module_version": "1.2.0",
          "state": {
            "_model_module": "@jupyter-widgets/base",
            "_model_module_version": "1.2.0",
            "_model_name": "LayoutModel",
            "_view_count": null,
            "_view_module": "@jupyter-widgets/base",
            "_view_module_version": "1.2.0",
            "_view_name": "LayoutView",
            "align_content": null,
            "align_items": null,
            "align_self": null,
            "border": null,
            "bottom": null,
            "display": null,
            "flex": null,
            "flex_flow": null,
            "grid_area": null,
            "grid_auto_columns": null,
            "grid_auto_flow": null,
            "grid_auto_rows": null,
            "grid_column": null,
            "grid_gap": null,
            "grid_row": null,
            "grid_template_areas": null,
            "grid_template_columns": null,
            "grid_template_rows": null,
            "height": null,
            "justify_content": null,
            "justify_items": null,
            "left": null,
            "margin": null,
            "max_height": null,
            "max_width": null,
            "min_height": null,
            "min_width": null,
            "object_fit": null,
            "object_position": null,
            "order": null,
            "overflow": null,
            "overflow_x": null,
            "overflow_y": null,
            "padding": null,
            "right": null,
            "top": null,
            "visibility": null,
            "width": null
          }
        },
        "7a409ef7242d4cd18f4769e311ae2c69": {
          "model_module": "@jupyter-widgets/controls",
          "model_name": "DescriptionStyleModel",
          "model_module_version": "1.5.0",
          "state": {
            "_model_module": "@jupyter-widgets/controls",
            "_model_module_version": "1.5.0",
            "_model_name": "DescriptionStyleModel",
            "_view_count": null,
            "_view_module": "@jupyter-widgets/base",
            "_view_module_version": "1.2.0",
            "_view_name": "StyleView",
            "description_width": ""
          }
        },
        "4be5b8198b3346ee8df752adec2214c8": {
          "model_module": "@jupyter-widgets/base",
          "model_name": "LayoutModel",
          "model_module_version": "1.2.0",
          "state": {
            "_model_module": "@jupyter-widgets/base",
            "_model_module_version": "1.2.0",
            "_model_name": "LayoutModel",
            "_view_count": null,
            "_view_module": "@jupyter-widgets/base",
            "_view_module_version": "1.2.0",
            "_view_name": "LayoutView",
            "align_content": null,
            "align_items": null,
            "align_self": null,
            "border": null,
            "bottom": null,
            "display": null,
            "flex": null,
            "flex_flow": null,
            "grid_area": null,
            "grid_auto_columns": null,
            "grid_auto_flow": null,
            "grid_auto_rows": null,
            "grid_column": null,
            "grid_gap": null,
            "grid_row": null,
            "grid_template_areas": null,
            "grid_template_columns": null,
            "grid_template_rows": null,
            "height": null,
            "justify_content": null,
            "justify_items": null,
            "left": null,
            "margin": null,
            "max_height": null,
            "max_width": null,
            "min_height": null,
            "min_width": null,
            "object_fit": null,
            "object_position": null,
            "order": null,
            "overflow": null,
            "overflow_x": null,
            "overflow_y": null,
            "padding": null,
            "right": null,
            "top": null,
            "visibility": null,
            "width": null
          }
        },
        "0f7518de96cf4575bc373f790a90a772": {
          "model_module": "@jupyter-widgets/controls",
          "model_name": "DescriptionStyleModel",
          "model_module_version": "1.5.0",
          "state": {
            "_model_module": "@jupyter-widgets/controls",
            "_model_module_version": "1.5.0",
            "_model_name": "DescriptionStyleModel",
            "_view_count": null,
            "_view_module": "@jupyter-widgets/base",
            "_view_module_version": "1.2.0",
            "_view_name": "StyleView",
            "description_width": ""
          }
        },
        "a1f9bc9a2c8746daa4fda78690e9ec7c": {
          "model_module": "@jupyter-widgets/base",
          "model_name": "LayoutModel",
          "model_module_version": "1.2.0",
          "state": {
            "_model_module": "@jupyter-widgets/base",
            "_model_module_version": "1.2.0",
            "_model_name": "LayoutModel",
            "_view_count": null,
            "_view_module": "@jupyter-widgets/base",
            "_view_module_version": "1.2.0",
            "_view_name": "LayoutView",
            "align_content": null,
            "align_items": null,
            "align_self": null,
            "border": null,
            "bottom": null,
            "display": null,
            "flex": null,
            "flex_flow": null,
            "grid_area": null,
            "grid_auto_columns": null,
            "grid_auto_flow": null,
            "grid_auto_rows": null,
            "grid_column": null,
            "grid_gap": null,
            "grid_row": null,
            "grid_template_areas": null,
            "grid_template_columns": null,
            "grid_template_rows": null,
            "height": null,
            "justify_content": null,
            "justify_items": null,
            "left": null,
            "margin": null,
            "max_height": null,
            "max_width": null,
            "min_height": null,
            "min_width": null,
            "object_fit": null,
            "object_position": null,
            "order": null,
            "overflow": null,
            "overflow_x": null,
            "overflow_y": null,
            "padding": null,
            "right": null,
            "top": null,
            "visibility": null,
            "width": null
          }
        },
        "bc657c1707ce4078a3bb5345bc7496e5": {
          "model_module": "@jupyter-widgets/controls",
          "model_name": "ButtonStyleModel",
          "model_module_version": "1.5.0",
          "state": {
            "_model_module": "@jupyter-widgets/controls",
            "_model_module_version": "1.5.0",
            "_model_name": "ButtonStyleModel",
            "_view_count": null,
            "_view_module": "@jupyter-widgets/base",
            "_view_module_version": "1.2.0",
            "_view_name": "StyleView",
            "button_color": null,
            "font_weight": ""
          }
        },
        "72c110ef636343518c6077a60bd7e64f": {
          "model_module": "@jupyter-widgets/base",
          "model_name": "LayoutModel",
          "model_module_version": "1.2.0",
          "state": {
            "_model_module": "@jupyter-widgets/base",
            "_model_module_version": "1.2.0",
            "_model_name": "LayoutModel",
            "_view_count": null,
            "_view_module": "@jupyter-widgets/base",
            "_view_module_version": "1.2.0",
            "_view_name": "LayoutView",
            "align_content": null,
            "align_items": null,
            "align_self": null,
            "border": null,
            "bottom": null,
            "display": null,
            "flex": null,
            "flex_flow": null,
            "grid_area": null,
            "grid_auto_columns": null,
            "grid_auto_flow": null,
            "grid_auto_rows": null,
            "grid_column": null,
            "grid_gap": null,
            "grid_row": null,
            "grid_template_areas": null,
            "grid_template_columns": null,
            "grid_template_rows": null,
            "height": null,
            "justify_content": null,
            "justify_items": null,
            "left": null,
            "margin": null,
            "max_height": null,
            "max_width": null,
            "min_height": null,
            "min_width": null,
            "object_fit": null,
            "object_position": null,
            "order": null,
            "overflow": null,
            "overflow_x": null,
            "overflow_y": null,
            "padding": null,
            "right": null,
            "top": null,
            "visibility": null,
            "width": null
          }
        },
        "c33ed8d7811045eeb749d9dbb73f3377": {
          "model_module": "@jupyter-widgets/controls",
          "model_name": "DescriptionStyleModel",
          "model_module_version": "1.5.0",
          "state": {
            "_model_module": "@jupyter-widgets/controls",
            "_model_module_version": "1.5.0",
            "_model_name": "DescriptionStyleModel",
            "_view_count": null,
            "_view_module": "@jupyter-widgets/base",
            "_view_module_version": "1.2.0",
            "_view_name": "StyleView",
            "description_width": ""
          }
        },
        "0309aed720ad48bc99e8a46a74096e9e": {
          "model_module": "@jupyter-widgets/controls",
          "model_name": "LabelModel",
          "model_module_version": "1.5.0",
          "state": {
            "_dom_classes": [],
            "_model_module": "@jupyter-widgets/controls",
            "_model_module_version": "1.5.0",
            "_model_name": "LabelModel",
            "_view_count": null,
            "_view_module": "@jupyter-widgets/controls",
            "_view_module_version": "1.5.0",
            "_view_name": "LabelView",
            "description": "",
            "description_tooltip": null,
            "layout": "IPY_MODEL_b9bd206d73c049739ce41f70f277ff9e",
            "placeholder": "​",
            "style": "IPY_MODEL_930f4092347f4f479288b60166c0c3d8",
            "value": "Connecting..."
          }
        },
        "b9bd206d73c049739ce41f70f277ff9e": {
          "model_module": "@jupyter-widgets/base",
          "model_name": "LayoutModel",
          "model_module_version": "1.2.0",
          "state": {
            "_model_module": "@jupyter-widgets/base",
            "_model_module_version": "1.2.0",
            "_model_name": "LayoutModel",
            "_view_count": null,
            "_view_module": "@jupyter-widgets/base",
            "_view_module_version": "1.2.0",
            "_view_name": "LayoutView",
            "align_content": null,
            "align_items": null,
            "align_self": null,
            "border": null,
            "bottom": null,
            "display": null,
            "flex": null,
            "flex_flow": null,
            "grid_area": null,
            "grid_auto_columns": null,
            "grid_auto_flow": null,
            "grid_auto_rows": null,
            "grid_column": null,
            "grid_gap": null,
            "grid_row": null,
            "grid_template_areas": null,
            "grid_template_columns": null,
            "grid_template_rows": null,
            "height": null,
            "justify_content": null,
            "justify_items": null,
            "left": null,
            "margin": null,
            "max_height": null,
            "max_width": null,
            "min_height": null,
            "min_width": null,
            "object_fit": null,
            "object_position": null,
            "order": null,
            "overflow": null,
            "overflow_x": null,
            "overflow_y": null,
            "padding": null,
            "right": null,
            "top": null,
            "visibility": null,
            "width": null
          }
        },
        "930f4092347f4f479288b60166c0c3d8": {
          "model_module": "@jupyter-widgets/controls",
          "model_name": "DescriptionStyleModel",
          "model_module_version": "1.5.0",
          "state": {
            "_model_module": "@jupyter-widgets/controls",
            "_model_module_version": "1.5.0",
            "_model_name": "DescriptionStyleModel",
            "_view_count": null,
            "_view_module": "@jupyter-widgets/base",
            "_view_module_version": "1.2.0",
            "_view_name": "StyleView",
            "description_width": ""
          }
        },
        "4e00e92dc8ac430e93e69502bb205256": {
          "model_module": "@jupyter-widgets/controls",
          "model_name": "LabelModel",
          "model_module_version": "1.5.0",
          "state": {
            "_dom_classes": [],
            "_model_module": "@jupyter-widgets/controls",
            "_model_module_version": "1.5.0",
            "_model_name": "LabelModel",
            "_view_count": null,
            "_view_module": "@jupyter-widgets/controls",
            "_view_module_version": "1.5.0",
            "_view_name": "LabelView",
            "description": "",
            "description_tooltip": null,
            "layout": "IPY_MODEL_7bd968d6c00b4332bcda47e522ee4a4f",
            "placeholder": "​",
            "style": "IPY_MODEL_8df24343a0644d3f91fb86e8c46bfe3e",
            "value": "Kaggle credentials successfully validated."
          }
        },
        "7bd968d6c00b4332bcda47e522ee4a4f": {
          "model_module": "@jupyter-widgets/base",
          "model_name": "LayoutModel",
          "model_module_version": "1.2.0",
          "state": {
            "_model_module": "@jupyter-widgets/base",
            "_model_module_version": "1.2.0",
            "_model_name": "LayoutModel",
            "_view_count": null,
            "_view_module": "@jupyter-widgets/base",
            "_view_module_version": "1.2.0",
            "_view_name": "LayoutView",
            "align_content": null,
            "align_items": null,
            "align_self": null,
            "border": null,
            "bottom": null,
            "display": null,
            "flex": null,
            "flex_flow": null,
            "grid_area": null,
            "grid_auto_columns": null,
            "grid_auto_flow": null,
            "grid_auto_rows": null,
            "grid_column": null,
            "grid_gap": null,
            "grid_row": null,
            "grid_template_areas": null,
            "grid_template_columns": null,
            "grid_template_rows": null,
            "height": null,
            "justify_content": null,
            "justify_items": null,
            "left": null,
            "margin": null,
            "max_height": null,
            "max_width": null,
            "min_height": null,
            "min_width": null,
            "object_fit": null,
            "object_position": null,
            "order": null,
            "overflow": null,
            "overflow_x": null,
            "overflow_y": null,
            "padding": null,
            "right": null,
            "top": null,
            "visibility": null,
            "width": null
          }
        },
        "8df24343a0644d3f91fb86e8c46bfe3e": {
          "model_module": "@jupyter-widgets/controls",
          "model_name": "DescriptionStyleModel",
          "model_module_version": "1.5.0",
          "state": {
            "_model_module": "@jupyter-widgets/controls",
            "_model_module_version": "1.5.0",
            "_model_name": "DescriptionStyleModel",
            "_view_count": null,
            "_view_module": "@jupyter-widgets/base",
            "_view_module_version": "1.2.0",
            "_view_name": "StyleView",
            "description_width": ""
          }
        }
      }
    }
  },
  "nbformat": 4,
  "nbformat_minor": 0
}